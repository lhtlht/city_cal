{
 "cells": [
  {
   "cell_type": "code",
   "execution_count": 1,
   "metadata": {},
   "outputs": [],
   "source": [
    "import numpy as np\n",
    "import pandas as pd\n",
    "from tqdm import tqdm as tqdm\n",
    "from multiprocessing import Pool\n",
    "import time,gc,sys"
   ]
  },
  {
   "cell_type": "code",
   "execution_count": 2,
   "metadata": {},
   "outputs": [],
   "source": [
    "# f22:上一天该站台最常见出站台\n",
    "# f23:上一天该站台全部站出站台人数\n",
    "# f24:上一天该站台全部站进站台人数"
   ]
  },
  {
   "cell_type": "code",
   "execution_count": 3,
   "metadata": {},
   "outputs": [],
   "source": [
    "# 统计进出站每天的变化情况\n",
    "def get_daily_activity(i):\n",
    "    if i<10:\n",
    "        s = '0'+str(i)\n",
    "    else:\n",
    "        s = str(i)\n",
    "    day_activ = pd.read_csv('data/Metro_train/record_2019-01-%s.csv'%s)\n",
    "    day_activ['time'] = pd.to_datetime(day_activ.time)\n",
    "    day_activ['stationID'] = day_activ['stationID']\n",
    "    day_activ['deviceID'] = day_activ['deviceID']\n",
    "    day_activ['status'] = day_activ['status']\n",
    "    day_activ['payType'] = day_activ['payType']\n",
    "    day_activ['lineID'] = day_activ['lineID'].apply(lambda x: {'A':0,'B':2,'C':1}[x])\n",
    "    return day_activ\n",
    "\n",
    "def construct_df():\n",
    "    final = pd.DataFrame()\n",
    "    for i in range(81):\n",
    "        temp = pd.DataFrame()\n",
    "        temp['minute'] = list(range(1440))\n",
    "        temp['stationID'] = i\n",
    "        final = final.append(temp)\n",
    "    final['minute'] = final['minute']/10\n",
    "    return final\n"
   ]
  },
  {
   "cell_type": "code",
   "execution_count": 4,
   "metadata": {},
   "outputs": [
    {
     "name": "stderr",
     "output_type": "stream",
     "text": [
      "100%|██████████| 81/81 [00:15<00:00,  4.68it/s]\n",
      "/usr/local/lib/python3.5/dist-packages/pandas/core/frame.py:4034: SettingWithCopyWarning: \n",
      "A value is trying to be set on a copy of a slice from a DataFrame\n",
      "\n",
      "See the caveats in the documentation: http://pandas.pydata.org/pandas-docs/stable/indexing.html#indexing-view-versus-copy\n",
      "  downcast=downcast, **kwargs)\n",
      "100%|██████████| 81/81 [00:18<00:00,  4.05it/s]\n",
      "  8%|▊         | 40/480 [00:19<03:35,  2.04it/s]/usr/local/lib/python3.5/dist-packages/pandas/core/frame.py:6692: FutureWarning: Sorting because non-concatenation axis is not aligned. A future version\n",
      "of pandas will change to not sort by default.\n",
      "\n",
      "To accept the future behavior, pass 'sort=False'.\n",
      "\n",
      "To retain the current behavior and silence the warning, pass 'sort=True'.\n",
      "\n",
      "  sort=sort)\n",
      "100%|██████████| 480/480 [03:32<00:00,  7.04it/s]\n",
      "100%|██████████| 480/480 [02:03<00:00,  1.70it/s]\n"
     ]
    },
    {
     "name": "stdout",
     "output_type": "stream",
     "text": [
      "1\n"
     ]
    },
    {
     "name": "stderr",
     "output_type": "stream",
     "text": [
      "100%|██████████| 81/81 [00:14<00:00,  4.88it/s]\n",
      "100%|██████████| 81/81 [00:17<00:00,  4.24it/s]\n",
      "100%|██████████| 480/480 [03:05<00:00,  6.53it/s]\n",
      "100%|██████████| 480/480 [02:10<00:00,  1.87it/s]\n"
     ]
    },
    {
     "name": "stdout",
     "output_type": "stream",
     "text": [
      "2\n"
     ]
    },
    {
     "name": "stderr",
     "output_type": "stream",
     "text": [
      "100%|██████████| 81/81 [00:11<00:00,  6.03it/s]\n",
      "100%|██████████| 81/81 [00:15<00:00,  4.02it/s]\n",
      "100%|██████████| 480/480 [02:52<00:00,  8.71it/s]\n",
      "100%|██████████| 480/480 [02:04<00:00,  1.99it/s]\n"
     ]
    },
    {
     "name": "stdout",
     "output_type": "stream",
     "text": [
      "3\n"
     ]
    },
    {
     "name": "stderr",
     "output_type": "stream",
     "text": [
      "100%|██████████| 81/81 [00:12<00:00,  5.47it/s]\n",
      "100%|██████████| 81/81 [00:23<00:00,  3.10it/s]\n",
      "100%|██████████| 480/480 [02:59<00:00,  7.86it/s]\n",
      "100%|██████████| 480/480 [01:55<00:00,  1.87it/s]\n"
     ]
    },
    {
     "name": "stdout",
     "output_type": "stream",
     "text": [
      "4\n"
     ]
    },
    {
     "name": "stderr",
     "output_type": "stream",
     "text": [
      "100%|██████████| 81/81 [00:11<00:00,  4.82it/s]\n",
      "100%|██████████| 81/81 [00:21<00:00,  3.17it/s]\n",
      "100%|██████████| 480/480 [02:31<00:00, 10.96it/s]\n",
      "100%|██████████| 480/480 [01:38<00:00,  2.07it/s]\n"
     ]
    },
    {
     "name": "stdout",
     "output_type": "stream",
     "text": [
      "5\n"
     ]
    },
    {
     "name": "stderr",
     "output_type": "stream",
     "text": [
      "100%|██████████| 81/81 [00:13<00:00,  4.52it/s]\n",
      "100%|██████████| 81/81 [00:17<00:00,  5.25it/s]\n",
      "100%|██████████| 480/480 [02:33<00:00, 12.40it/s]\n",
      "100%|██████████| 480/480 [01:44<00:00,  2.17it/s]\n"
     ]
    },
    {
     "name": "stdout",
     "output_type": "stream",
     "text": [
      "6\n"
     ]
    },
    {
     "name": "stderr",
     "output_type": "stream",
     "text": [
      "100%|██████████| 81/81 [00:13<00:00,  5.27it/s]\n",
      "100%|██████████| 81/81 [00:17<00:00,  4.26it/s]\n",
      "100%|██████████| 480/480 [02:53<00:00,  8.74it/s]\n",
      "100%|██████████| 480/480 [02:08<00:00,  2.07it/s]\n"
     ]
    },
    {
     "name": "stdout",
     "output_type": "stream",
     "text": [
      "7\n"
     ]
    },
    {
     "name": "stderr",
     "output_type": "stream",
     "text": [
      "100%|██████████| 81/81 [00:13<00:00,  5.15it/s]\n",
      "100%|██████████| 81/81 [00:17<00:00,  3.35it/s]\n",
      "100%|██████████| 480/480 [02:56<00:00,  2.72it/s]\n",
      "100%|██████████| 480/480 [02:08<00:00,  2.03it/s]\n"
     ]
    },
    {
     "name": "stdout",
     "output_type": "stream",
     "text": [
      "8\n"
     ]
    },
    {
     "name": "stderr",
     "output_type": "stream",
     "text": [
      "100%|██████████| 81/81 [00:16<00:00,  4.01it/s]\n",
      "100%|██████████| 81/81 [00:18<00:00,  4.85it/s]\n",
      "100%|██████████| 480/480 [02:42<00:00,  9.54it/s]\n",
      "100%|██████████| 480/480 [01:56<00:00,  2.11it/s]\n"
     ]
    },
    {
     "name": "stdout",
     "output_type": "stream",
     "text": [
      "9\n"
     ]
    },
    {
     "name": "stderr",
     "output_type": "stream",
     "text": [
      "100%|██████████| 81/81 [00:22<00:00,  4.50it/s]\n",
      "100%|██████████| 81/81 [00:17<00:00,  3.97it/s]\n",
      "100%|██████████| 480/480 [02:45<00:00,  7.79it/s]\n",
      "100%|██████████| 480/480 [01:59<00:00,  2.03it/s]\n"
     ]
    },
    {
     "name": "stdout",
     "output_type": "stream",
     "text": [
      "10\n"
     ]
    },
    {
     "name": "stderr",
     "output_type": "stream",
     "text": [
      "100%|██████████| 81/81 [00:13<00:00,  5.20it/s]\n",
      "100%|██████████| 81/81 [00:16<00:00,  4.52it/s]\n",
      "100%|██████████| 480/480 [02:57<00:00,  8.33it/s]\n",
      "100%|██████████| 480/480 [01:47<00:00,  1.78it/s]\n"
     ]
    },
    {
     "name": "stdout",
     "output_type": "stream",
     "text": [
      "11\n"
     ]
    },
    {
     "name": "stderr",
     "output_type": "stream",
     "text": [
      "100%|██████████| 81/81 [00:13<00:00,  5.61it/s]\n",
      "100%|██████████| 81/81 [00:15<00:00,  4.75it/s]\n",
      "100%|██████████| 480/480 [02:23<00:00, 11.67it/s]\n",
      "100%|██████████| 480/480 [01:28<00:00,  2.31it/s] \n"
     ]
    },
    {
     "name": "stdout",
     "output_type": "stream",
     "text": [
      "12\n"
     ]
    },
    {
     "name": "stderr",
     "output_type": "stream",
     "text": [
      "100%|██████████| 81/81 [00:13<00:00,  4.75it/s]\n",
      "100%|██████████| 81/81 [00:18<00:00,  3.88it/s]\n",
      "100%|██████████| 480/480 [03:17<00:00,  6.86it/s]\n",
      "100%|██████████| 480/480 [01:59<00:00,  1.51it/s]\n"
     ]
    },
    {
     "name": "stdout",
     "output_type": "stream",
     "text": [
      "13\n"
     ]
    },
    {
     "name": "stderr",
     "output_type": "stream",
     "text": [
      "100%|██████████| 81/81 [00:19<00:00,  3.58it/s]\n",
      "100%|██████████| 81/81 [00:20<00:00,  3.04it/s]\n",
      "100%|██████████| 480/480 [03:30<00:00,  6.99it/s]\n",
      "100%|██████████| 480/480 [02:29<00:00,  1.48it/s]\n"
     ]
    },
    {
     "name": "stdout",
     "output_type": "stream",
     "text": [
      "14\n"
     ]
    },
    {
     "name": "stderr",
     "output_type": "stream",
     "text": [
      "100%|██████████| 81/81 [00:12<00:00,  5.70it/s]\n",
      "100%|██████████| 81/81 [00:15<00:00,  4.80it/s]\n",
      "100%|██████████| 480/480 [02:28<00:00, 11.04it/s]\n",
      "100%|██████████| 480/480 [01:42<00:00,  2.11it/s]\n"
     ]
    },
    {
     "name": "stdout",
     "output_type": "stream",
     "text": [
      "15\n"
     ]
    },
    {
     "name": "stderr",
     "output_type": "stream",
     "text": [
      "100%|██████████| 81/81 [00:13<00:00,  5.23it/s]\n",
      "100%|██████████| 81/81 [00:16<00:00,  4.51it/s]\n",
      "100%|██████████| 480/480 [02:36<00:00,  8.71it/s]\n",
      "100%|██████████| 480/480 [01:46<00:00,  1.99it/s]\n"
     ]
    },
    {
     "name": "stdout",
     "output_type": "stream",
     "text": [
      "16\n"
     ]
    },
    {
     "name": "stderr",
     "output_type": "stream",
     "text": [
      "100%|██████████| 81/81 [00:14<00:00,  5.23it/s]\n",
      "100%|██████████| 81/81 [00:16<00:00,  4.49it/s]\n",
      "100%|██████████| 480/480 [02:43<00:00,  8.53it/s]\n",
      "100%|██████████| 480/480 [01:48<00:00,  1.94it/s]\n"
     ]
    },
    {
     "name": "stdout",
     "output_type": "stream",
     "text": [
      "17\n"
     ]
    },
    {
     "name": "stderr",
     "output_type": "stream",
     "text": [
      "100%|██████████| 81/81 [00:14<00:00,  5.26it/s]\n",
      "100%|██████████| 81/81 [00:16<00:00,  4.48it/s]\n",
      "100%|██████████| 480/480 [02:57<00:00,  7.95it/s]\n",
      "100%|██████████| 480/480 [01:53<00:00,  1.79it/s]\n"
     ]
    },
    {
     "name": "stdout",
     "output_type": "stream",
     "text": [
      "18\n"
     ]
    },
    {
     "name": "stderr",
     "output_type": "stream",
     "text": [
      "100%|██████████| 81/81 [00:12<00:00,  5.56it/s]\n",
      "100%|██████████| 81/81 [00:15<00:00,  4.76it/s]\n",
      "100%|██████████| 480/480 [02:28<00:00,  9.35it/s]\n",
      "100%|██████████| 480/480 [01:32<00:00,  2.21it/s] \n"
     ]
    },
    {
     "name": "stdout",
     "output_type": "stream",
     "text": [
      "19\n"
     ]
    },
    {
     "name": "stderr",
     "output_type": "stream",
     "text": [
      "100%|██████████| 81/81 [00:13<00:00,  5.57it/s]\n",
      "100%|██████████| 81/81 [00:15<00:00,  4.73it/s]\n",
      "100%|██████████| 480/480 [02:25<00:00,  9.80it/s]\n",
      "100%|██████████| 480/480 [01:26<00:00,  2.32it/s] \n"
     ]
    },
    {
     "name": "stdout",
     "output_type": "stream",
     "text": [
      "20\n"
     ]
    },
    {
     "name": "stderr",
     "output_type": "stream",
     "text": [
      "100%|██████████| 81/81 [00:13<00:00,  5.31it/s]\n",
      "100%|██████████| 81/81 [00:16<00:00,  4.50it/s]\n",
      "100%|██████████| 480/480 [02:39<00:00,  8.55it/s]\n",
      "100%|██████████| 480/480 [01:51<00:00,  1.83it/s]\n"
     ]
    },
    {
     "name": "stdout",
     "output_type": "stream",
     "text": [
      "21\n"
     ]
    },
    {
     "name": "stderr",
     "output_type": "stream",
     "text": [
      "100%|██████████| 81/81 [00:14<00:00,  5.22it/s]\n",
      "100%|██████████| 81/81 [00:16<00:00,  4.42it/s]\n",
      "100%|██████████| 480/480 [03:11<00:00,  8.58it/s]\n",
      "100%|██████████| 480/480 [02:02<00:00,  1.78it/s]\n"
     ]
    },
    {
     "name": "stdout",
     "output_type": "stream",
     "text": [
      "22\n"
     ]
    },
    {
     "name": "stderr",
     "output_type": "stream",
     "text": [
      "100%|██████████| 81/81 [00:15<00:00,  4.78it/s]\n",
      "100%|██████████| 81/81 [00:18<00:00,  4.19it/s]\n",
      "100%|██████████| 480/480 [03:08<00:00,  7.60it/s]\n",
      "100%|██████████| 480/480 [01:53<00:00,  1.94it/s]\n"
     ]
    },
    {
     "name": "stdout",
     "output_type": "stream",
     "text": [
      "23\n"
     ]
    },
    {
     "name": "stderr",
     "output_type": "stream",
     "text": [
      "100%|██████████| 81/81 [00:14<00:00,  5.16it/s]\n",
      "100%|██████████| 81/81 [00:17<00:00,  4.38it/s]\n",
      "100%|██████████| 480/480 [03:05<00:00,  7.84it/s]\n",
      "100%|██████████| 480/480 [02:02<00:00,  1.68it/s]\n"
     ]
    },
    {
     "name": "stdout",
     "output_type": "stream",
     "text": [
      "24\n"
     ]
    },
    {
     "name": "stderr",
     "output_type": "stream",
     "text": [
      "100%|██████████| 81/81 [00:16<00:00,  4.20it/s]\n",
      "100%|██████████| 81/81 [00:18<00:00,  3.81it/s]\n",
      "100%|██████████| 480/480 [03:08<00:00,  9.20it/s]\n",
      "100%|██████████| 480/480 [01:56<00:00,  1.86it/s]\n"
     ]
    },
    {
     "name": "stdout",
     "output_type": "stream",
     "text": [
      "25\n"
     ]
    },
    {
     "name": "stderr",
     "output_type": "stream",
     "text": [
      "100%|██████████| 81/81 [00:17<00:00,  4.06it/s]\n",
      "100%|██████████| 81/81 [00:20<00:00,  3.51it/s]\n",
      "100%|██████████| 480/480 [03:27<00:00,  7.27it/s]\n",
      "100%|██████████| 480/480 [02:19<00:00,  1.54it/s]\n"
     ]
    },
    {
     "name": "stdout",
     "output_type": "stream",
     "text": [
      "28\n"
     ]
    }
   ],
   "source": [
    "all_df = pd.DataFrame()\n",
    "\n",
    "#for date in range(7,26):\n",
    "for date in list(range(1,26))+[28]:\n",
    "\n",
    "    final = construct_df()\n",
    "    day_activ = get_daily_activity(date)\n",
    "    \n",
    "    df = pd.DataFrame()\n",
    "    for i in range(10):\n",
    "        day_activ['minute'] = (day_activ['time'].dt.minute-i+day_activ['time'].dt.hour*60)//10+0.1*i\n",
    "        day_activ['minute'] = day_activ['minute'].apply(lambda x:143+1+x if x<0 else x)\n",
    "        df = df.append(day_activ)\n",
    "    df.sort_values(by='minute',inplace=True)\n",
    "    come = df\n",
    "    # 上一天该时刻进站分布\n",
    "    for i in tqdm(range(81)):\n",
    "        f = come[(come.stationID==i)&(come.status==1)].groupby('minute',as_index=False).agg({'status':'count'}).rename(columns={'status':'%d_come'%i})\n",
    "        final = final.merge(f,on='minute',how='left')\n",
    "    # 出站方差分布，最大值，平均值 \n",
    "    temp_name = ['%d_come'%i for i in range(81)]\n",
    "    final[temp_name].fillna(0,inplace=True)\n",
    "    final['come_max'] = final[temp_name].max(axis=1)\n",
    "    final['come_mean'] = final[temp_name].mean(axis=1)\n",
    "    final['come_var'] = final[temp_name].var(axis=1)\n",
    "    final['come_max_id'] = final[temp_name].idxmax(axis=1)\n",
    "\n",
    "    # 上一天该时刻出站分布\n",
    "    for i in tqdm(range(81)):\n",
    "        f = come[(come.stationID==i)&(come.status==0)].groupby('minute',as_index=False).agg({'status':'count'}).rename(columns={'status':'%d_out'%i})\n",
    "        final = final.merge(f,on='minute',how='left')\n",
    "    # 出站方差分布，最大值，平均值 \n",
    "    final[temp_name].fillna(0,inplace=True)\n",
    "\n",
    "    temp_name = ['%d_out'%i for i in range(81)]\n",
    "    final['out_max'] = final[temp_name].max(axis=1)\n",
    "    final['out_mean'] = final[temp_name].mean(axis=1)\n",
    "    final['out_var'] = final[temp_name].var(axis=1)\n",
    "    final['out_max_id'] = final[temp_name].idxmax(axis=1)\n",
    "\n",
    "    # 上一天该时刻该站出站分布\n",
    "    day_activ = get_daily_activity(date)\n",
    "    day_activ['minute'] = (day_activ['time'].dt.minute+day_activ['time'].dt.hour*60)//3\n",
    "\n",
    "    come = day_activ[day_activ.status==1]\n",
    "    out = day_activ[day_activ.status==0][['userID','stationID','minute']].rename(columns={'stationID':'out_station'})\n",
    "    temp = pd.DataFrame()\n",
    "    for i in tqdm(range(480)):\n",
    "        temp_come = come[come.minute==i]\n",
    "        temp_out = out[out.minute>i][['userID','out_station']]\n",
    "        temp = temp.append(temp_come.merge(temp_out,on='userID',how='left').drop_duplicates(subset=['time','stationID','userID'],keep='first'))\n",
    "    day_activ = temp\n",
    "    df = pd.DataFrame()\n",
    "    for i in range(10):\n",
    "        day_activ['minute'] = (day_activ['time'].dt.minute-i+day_activ['time'].dt.hour*60)//10+0.1*i\n",
    "        day_activ['minute'] = day_activ['minute'].apply(lambda x:143+1+x if x<0 else x)\n",
    "        df = df.append(day_activ)\n",
    "    df.sort_values(by='minute',inplace=True)\n",
    "    come = df\n",
    "\n",
    "    come_out_dist = come.groupby(['stationID','minute','out_station'],as_index=False).agg({'status':'count'}).rename(columns={'status':'out_number'})\n",
    "    for i in range(81):\n",
    "        f = come_out_dist[come_out_dist.out_station==i][['stationID','minute','out_number']].rename(columns={'out_number':'%d_come_out'%i})\n",
    "        final = final.merge(f,on=['stationID','minute'],how='left')\n",
    "    # 出站方差分布，最大值，平均值 \n",
    "    temp_name = ['%d_come_out'%i for i in range(81)]\n",
    "    final[temp_name].fillna(0,inplace=True)\n",
    "\n",
    "    final['come_out_max'] = final[temp_name].max(axis=1)\n",
    "    final['come_out_mean'] = final[temp_name].mean(axis=1)\n",
    "    final['come_out_var'] = final[temp_name].var(axis=1)\n",
    "    final['come_out_max_id'] = final[temp_name].idxmax(axis=1)\n",
    "    \n",
    "    # 上一天该时刻该站进站分布\n",
    "    day_activ = get_daily_activity(date)\n",
    "    day_activ['minute'] = (day_activ['time'].dt.minute+day_activ['time'].dt.hour*60)//3\n",
    "\n",
    "    come = day_activ[day_activ.status==1][['userID','stationID','minute']].rename(columns={'stationID':'come_station'})\n",
    "    out = day_activ[day_activ.status==0]\n",
    "    temp = pd.DataFrame()\n",
    "    for i in tqdm(range(480)):\n",
    "        temp_out = out[out.minute==i]\n",
    "        temp_come = come[come.minute<i][['userID','come_station']]\n",
    "        temp = temp.append(temp_out.merge(temp_come,on='userID',how='left').drop_duplicates(subset=['time','stationID','userID'],keep='first'))\n",
    "    day_activ = temp\n",
    "    df = pd.DataFrame()\n",
    "    for i in range(10):\n",
    "        day_activ['minute'] = (day_activ['time'].dt.minute-i+day_activ['time'].dt.hour*60)//10+0.1*i\n",
    "        day_activ['minute'] = day_activ['minute'].apply(lambda x:143+1+x if x<0 else x)\n",
    "        df = df.append(day_activ)\n",
    "    df.sort_values(by='minute',inplace=True)\n",
    "    out = df\n",
    "\n",
    "    out_come_dist = out.groupby(['stationID','minute','come_station'],as_index=False).agg({'status':'count'}).rename(columns={'status':'come_number'})\n",
    "    for i in range(81):\n",
    "        f = out_come_dist[out_come_dist.come_station==i][['stationID','minute','come_number']].rename(columns={'come_number':'%d_out_come'%i})\n",
    "        final = final.merge(f,on=['stationID','minute'],how='left')\n",
    "    # 出站方差分布，最大值，平均值 \n",
    "    temp_name = ['%d_come_out'%i for i in range(81)]\n",
    "    final[temp_name].fillna(0,inplace=True)\n",
    "    final['out_come_max'] = final[temp_name].max(axis=1)\n",
    "    final['out_come_mean'] = final[temp_name].mean(axis=1)\n",
    "    final['out_come_var'] = final[temp_name].var(axis=1)\n",
    "    final['out_come_max_id'] = final[temp_name].idxmax(axis=1)\n",
    "\n",
    "    # 数据格式减少内存\n",
    "    final['date'] = date\n",
    "    final.fillna(0,inplace=True)\n",
    "    for c in final.dtypes.index:\n",
    "        if final.dtypes[c] == 'float64':\n",
    "            final[c] = final[c].astype('float32')\n",
    "    all_df = all_df.append(final)\n",
    "    print(date)\n",
    "    #break"
   ]
  },
  {
   "cell_type": "code",
   "execution_count": 5,
   "metadata": {},
   "outputs": [],
   "source": [
    "all_df.to_pickle('features/progress5.pkl')"
   ]
  },
  {
   "cell_type": "code",
   "execution_count": null,
   "metadata": {},
   "outputs": [],
   "source": []
  }
 ],
 "metadata": {
  "kernelspec": {
   "display_name": "Python 3",
   "language": "python",
   "name": "python3"
  },
  "language_info": {
   "codemirror_mode": {
    "name": "ipython",
    "version": 3
   },
   "file_extension": ".py",
   "mimetype": "text/x-python",
   "name": "python",
   "nbconvert_exporter": "python",
   "pygments_lexer": "ipython3",
   "version": "3.5.2"
  }
 },
 "nbformat": 4,
 "nbformat_minor": 2
}
