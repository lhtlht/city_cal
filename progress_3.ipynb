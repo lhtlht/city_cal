{
 "cells": [
  {
   "cell_type": "code",
   "execution_count": 1,
   "metadata": {},
   "outputs": [],
   "source": [
    "import numpy as np\n",
    "import pandas as pd\n",
    "from tqdm import tqdm as tqdm\n",
    "from multiprocessing import Pool\n",
    "import time,gc"
   ]
  },
  {
   "cell_type": "code",
   "execution_count": 2,
   "metadata": {},
   "outputs": [
    {
     "data": {
      "text/plain": [
       "3"
      ]
     },
     "execution_count": 2,
     "metadata": {},
     "output_type": "execute_result"
    }
   ],
   "source": [
    "# f10:上一天该时刻数据的可信度\n",
    "# f25:上一天该时刻最多进站站台\n",
    "    \n",
    "# f11:该站台进站口个数+出站口个数\n",
    "# f13:站台的邻居个数\n",
    "    3\n",
    "# f14:上一天乘客该时刻刷卡类型\n",
    "# f15:上一天乘客该时间段刷卡类型\n",
    "# f16:上一天乘客当天刷卡类型(刷卡类型归一化)\n",
    "    \n",
    "# f21:上一天非周期用户的数量(一天只有两次刷卡)\n",
    "# f22:上一天该站台最常见出站台\n",
    "# f23:上一天该站台全部站出站台人数\n",
    "# f26:上一天该时刻进站最多目标出站站台(f23的max和std)\n",
    "# f24:上一天该站台全部站进站台人数\n",
    "# 分时刻重复上述特征\n",
    "    \n",
    "# # 进出站交互特征\n",
    "# f17:上一天该时刻进出站总人数\n",
    "# f18:上一天该时间段进出站总人数\n",
    "# f19:上一天该站总进出流量\n",
    "\n",
    "# f20:上一天天气情况"
   ]
  },
  {
   "cell_type": "code",
   "execution_count": 3,
   "metadata": {},
   "outputs": [],
   "source": [
    "# 统计进出站每天的变化情况\n",
    "def get_daily_activity(i):\n",
    "    if i<10:\n",
    "        s = '0'+str(i)\n",
    "    else:\n",
    "        s = str(i)\n",
    "    day_activ = pd.read_csv('data/Metro_train/record_2019-01-%s.csv'%s)\n",
    "    day_activ['time'] = pd.to_datetime(day_activ.time)\n",
    "    day_activ['stationID'] = day_activ['stationID'].astype('int8')\n",
    "    day_activ['deviceID'] = day_activ['deviceID'].astype('int32')\n",
    "    day_activ['status'] = day_activ['status'].astype('int8')\n",
    "    day_activ['payType'] = day_activ['payType'].astype('int8')\n",
    "    day_activ['lineID'] = day_activ['lineID'].apply(lambda x: {'A':0,'B':2,'C':1}[x]).astype('int8')\n",
    "    return day_activ\n",
    "\n",
    "def construct_df():\n",
    "    final = pd.DataFrame()\n",
    "    for i in range(81):\n",
    "        temp = pd.DataFrame()\n",
    "        temp['minute'] = list(range(1440))\n",
    "        temp['stationID'] = i\n",
    "        final = final.append(temp)\n",
    "    final['minute'] = final['minute']/10\n",
    "    final['minute'] = final['minute'].astype('float32')\n",
    "    final['stationID'] = final['stationID'].astype('int8')\n",
    "    return final\n",
    "\n",
    "def get_cum_feature(function,n):\n",
    "    pool = Pool(8)  #创建拥有5个进程数量的进程池\n",
    "    timestep = [(x,n) for x in range(1440)]\n",
    "    count_result =pool.map(function, timestep) \n",
    "    pool.close()#关闭进程池，不再接受新的进程\n",
    "    pool.join()#主进程阻塞等待子进程的退出\n",
    "    return count_result\n",
    "\n",
    "# 分站点统计\n",
    "def median_cum_bystation(params):\n",
    "    i,n = params\n",
    "    time_range = [i/10+x for x in range(0-n,1+n)]\n",
    "    time_range = [143+1+x if x<0 else x for x in time_range]\n",
    "    station_num = []\n",
    "    for s in range(80):\n",
    "        count = []\n",
    "        for t in time_range:\n",
    "            try:\n",
    "                count.append(come_bystation.loc[(s,t),'count_10min'])\n",
    "            except:\n",
    "                count.append(0)\n",
    "        station_num.append([s,i/10,np.median(count)])\n",
    "    return station_num"
   ]
  },
  {
   "cell_type": "code",
   "execution_count": 4,
   "metadata": {},
   "outputs": [],
   "source": [
    "# 构建邻接矩阵\n",
    "roadmap = pd.read_csv('data/Metro_roadMap.csv',index_col=0)\n",
    "near_node = {}\n",
    "for index,row in roadmap.iterrows():\n",
    "    for i in range(80):\n",
    "        if row[i]==1:\n",
    "            if index not in near_node:\n",
    "                near_node[index] = []\n",
    "            near_node[index].append(i)"
   ]
  },
  {
   "cell_type": "code",
   "execution_count": 7,
   "metadata": {},
   "outputs": [
    {
     "name": "stderr",
     "output_type": "stream",
     "text": [
      "328771it [01:51, 2950.64it/s]\n",
      "320it [00:00, 10615.80it/s]\n",
      "4704it [00:00, 13675.67it/s]\n"
     ]
    },
    {
     "name": "stdout",
     "output_type": "stream",
     "text": [
      "epoch 7, now f12 151.321766 秒\n"
     ]
    },
    {
     "name": "stderr",
     "output_type": "stream",
     "text": [
      "329831it [01:51, 2970.68it/s]\n",
      "320it [00:00, 10629.93it/s]\n",
      "4734it [00:00, 13189.64it/s]\n"
     ]
    },
    {
     "name": "stdout",
     "output_type": "stream",
     "text": [
      "epoch 8, now f12 302.785877 秒\n"
     ]
    },
    {
     "name": "stderr",
     "output_type": "stream",
     "text": [
      "329395it [01:50, 2988.02it/s]\n",
      "320it [00:00, 10753.16it/s]\n",
      "4746it [00:00, 13721.59it/s]\n"
     ]
    },
    {
     "name": "stdout",
     "output_type": "stream",
     "text": [
      "epoch 9, now f12 453.293869 秒\n"
     ]
    },
    {
     "name": "stderr",
     "output_type": "stream",
     "text": [
      "329633it [01:48, 3043.67it/s]\n",
      "320it [00:00, 10780.28it/s]\n",
      "4763it [00:00, 13965.25it/s]\n"
     ]
    },
    {
     "name": "stdout",
     "output_type": "stream",
     "text": [
      "epoch 10, now f12 601.978065 秒\n"
     ]
    },
    {
     "name": "stderr",
     "output_type": "stream",
     "text": [
      "331010it [01:49, 3018.19it/s]\n",
      "320it [00:00, 10883.96it/s]\n",
      "4725it [00:00, 13818.88it/s]\n"
     ]
    },
    {
     "name": "stdout",
     "output_type": "stream",
     "text": [
      "epoch 11, now f12 753.970555 秒\n"
     ]
    },
    {
     "name": "stderr",
     "output_type": "stream",
     "text": [
      "330933it [01:48, 3056.10it/s]\n",
      "320it [00:00, 10882.28it/s]\n",
      "4716it [00:00, 13828.87it/s]\n"
     ]
    },
    {
     "name": "stdout",
     "output_type": "stream",
     "text": [
      "epoch 12, now f12 900.607068 秒\n"
     ]
    },
    {
     "name": "stderr",
     "output_type": "stream",
     "text": [
      "328975it [01:48, 3036.20it/s]\n",
      "320it [00:00, 10495.60it/s]\n",
      "4719it [00:00, 13710.05it/s]\n"
     ]
    },
    {
     "name": "stdout",
     "output_type": "stream",
     "text": [
      "epoch 13, now f12 1046.212927 秒\n"
     ]
    },
    {
     "name": "stderr",
     "output_type": "stream",
     "text": [
      "329547it [01:48, 3031.19it/s]\n",
      "320it [00:00, 10378.25it/s]\n",
      "4711it [00:00, 13760.61it/s]\n"
     ]
    },
    {
     "name": "stdout",
     "output_type": "stream",
     "text": [
      "epoch 14, now f12 1195.787127 秒\n"
     ]
    },
    {
     "name": "stderr",
     "output_type": "stream",
     "text": [
      "330082it [01:48, 3046.56it/s]\n",
      "320it [00:00, 10849.65it/s]\n",
      "4745it [00:00, 13937.48it/s]\n"
     ]
    },
    {
     "name": "stdout",
     "output_type": "stream",
     "text": [
      "epoch 15, now f12 1344.439981 秒\n"
     ]
    },
    {
     "name": "stderr",
     "output_type": "stream",
     "text": [
      "330042it [01:48, 3033.16it/s]\n",
      "320it [00:00, 10986.32it/s]\n",
      "4716it [00:00, 13753.24it/s]\n"
     ]
    },
    {
     "name": "stdout",
     "output_type": "stream",
     "text": [
      "epoch 16, now f12 1494.673453 秒\n"
     ]
    },
    {
     "name": "stderr",
     "output_type": "stream",
     "text": [
      "331677it [01:51, 2972.75it/s]\n",
      "320it [00:00, 9421.70it/s]\n",
      "4754it [00:00, 13109.02it/s]\n"
     ]
    },
    {
     "name": "stdout",
     "output_type": "stream",
     "text": [
      "epoch 17, now f12 1648.555904 秒\n"
     ]
    },
    {
     "name": "stderr",
     "output_type": "stream",
     "text": [
      "332419it [01:52, 2962.68it/s]\n",
      "320it [00:00, 11001.27it/s]\n",
      "4754it [00:00, 13750.52it/s]\n"
     ]
    },
    {
     "name": "stdout",
     "output_type": "stream",
     "text": [
      "epoch 18, now f12 1804.842433 秒\n"
     ]
    },
    {
     "name": "stderr",
     "output_type": "stream",
     "text": [
      "331225it [01:50, 3003.37it/s]\n",
      "320it [00:00, 11052.46it/s]\n",
      "4749it [00:00, 13421.96it/s]\n"
     ]
    },
    {
     "name": "stdout",
     "output_type": "stream",
     "text": [
      "epoch 19, now f12 1954.099164 秒\n"
     ]
    },
    {
     "name": "stderr",
     "output_type": "stream",
     "text": [
      "329369it [01:49, 2999.30it/s]\n",
      "320it [00:00, 10708.89it/s]\n",
      "4741it [00:00, 13713.99it/s]\n"
     ]
    },
    {
     "name": "stdout",
     "output_type": "stream",
     "text": [
      "epoch 20, now f12 2101.867578 秒\n"
     ]
    },
    {
     "name": "stderr",
     "output_type": "stream",
     "text": [
      "332329it [01:51, 2984.41it/s]\n",
      "320it [00:00, 10905.09it/s]\n",
      "4734it [00:00, 13509.86it/s]\n"
     ]
    },
    {
     "name": "stdout",
     "output_type": "stream",
     "text": [
      "epoch 21, now f12 2255.391041 秒\n"
     ]
    },
    {
     "name": "stderr",
     "output_type": "stream",
     "text": [
      "332824it [01:51, 2996.78it/s]\n",
      "320it [00:00, 10796.15it/s]\n",
      "4774it [00:00, 13363.77it/s]\n"
     ]
    },
    {
     "name": "stdout",
     "output_type": "stream",
     "text": [
      "epoch 22, now f12 2408.478080 秒\n"
     ]
    },
    {
     "name": "stderr",
     "output_type": "stream",
     "text": [
      "333678it [01:51, 2997.45it/s]\n",
      "320it [00:00, 10868.80it/s]\n",
      "4798it [00:00, 13754.82it/s]\n"
     ]
    },
    {
     "name": "stdout",
     "output_type": "stream",
     "text": [
      "epoch 23, now f12 2562.418475 秒\n"
     ]
    },
    {
     "name": "stderr",
     "output_type": "stream",
     "text": [
      "334175it [01:51, 2985.35it/s]\n",
      "320it [00:00, 10814.77it/s]\n",
      "4789it [00:00, 13736.81it/s]\n"
     ]
    },
    {
     "name": "stdout",
     "output_type": "stream",
     "text": [
      "epoch 24, now f12 2716.962469 秒\n"
     ]
    },
    {
     "name": "stderr",
     "output_type": "stream",
     "text": [
      "335870it [01:51, 3006.49it/s]\n",
      "320it [00:00, 10888.11it/s]\n",
      "4763it [00:00, 13562.88it/s]\n"
     ]
    },
    {
     "name": "stdout",
     "output_type": "stream",
     "text": [
      "epoch 25, now f12 2871.953209 秒\n"
     ]
    }
   ],
   "source": [
    "t1 = time.time()\n",
    "all_df = pd.DataFrame()\n",
    "for date in range(7,26):\n",
    "    final = construct_df()\n",
    "    day_activ = get_daily_activity(date)[['time','lineID','stationID','deviceID','status','payType']]\n",
    "    df = pd.DataFrame()\n",
    "    for i in range(10):\n",
    "        day_activ['minute'] = (day_activ['time'].dt.minute-i+day_activ['time'].dt.hour*60)//10+0.1*i\n",
    "        day_activ['minute'] = day_activ['minute'].apply(lambda x:143+1+x if x<0 else x)\n",
    "        df = df.append(day_activ)\n",
    "    df.sort_values(by='minute',inplace=True)\n",
    "    come = df[df.status==1]\n",
    "    # 周围半小时中位数\n",
    "    come_bystation = come.groupby(['stationID','minute']).agg({'status':'count'}).rename(columns={'status':'count_10min'})\n",
    "    count_result = get_cum_feature(median_cum_bystation,1)\n",
    "    result = []\n",
    "    for x in count_result:\n",
    "        for i in x:\n",
    "            result.append(i)\n",
    "    f1 = pd.DataFrame(result)\n",
    "    f1.rename(columns={0:'stationID',1:'minute',2:'median_30min_bystation'},inplace=True)\n",
    "    final = final.merge(f1,on=['stationID','minute'],how='left')\n",
    "    # 上一天该时刻最多进站展台\n",
    "    come_bystation = come.groupby(['minute','stationID'],as_index=False).agg({'status':'count'}).rename(columns={'status':'count_10min'})\n",
    "    f2 = come_bystation.sort_values(['minute','count_10min'],ascending=False).\\\n",
    "    drop_duplicates(['minute']).rename(columns={'count_10min':'count_10_max','stationID':'max_count_ID'})\n",
    "    final = final.merge(f2,on='minute',how='left')\n",
    "    # 该站台进站口个数+出站口个数\n",
    "    f3 = come.groupby(['stationID'],as_index=False).agg({'deviceID':'nunique'}).rename(columns={'deviceID':'device_num'})    # f13:站台的邻居个数\n",
    "    final = final.merge(f3,on='stationID',how='left')\n",
    "    # 该站台的邻居个数\n",
    "    final['near_num'] = final['stationID'].apply(lambda x:len(near_node[x]))\n",
    "    # 刷卡类型处理，该时刻，全天，分站台处理\n",
    "    count_type = come.groupby(['stationID','minute','payType'],as_index=False).agg({'status':'count'})\n",
    "    come_bystation = come.groupby(['stationID','minute']).agg({'status':'count'}).rename(columns={'status':'count_10min'})\n",
    "    rate = []\n",
    "    for index,row in tqdm(count_type.iterrows()):\n",
    "        rate.append(row['status']/come_bystation.loc[(row['stationID'],row['minute']),'count_10min'])\n",
    "    count_type['rate'] = rate\n",
    "    f4 = count_type[count_type.payType==0].rename(columns={'rate':'type_0_bystatiommin'})[['stationID','minute','type_0_bystatiommin']]\n",
    "    final = final.merge(f4,on=['stationID','minute'],how='left')\n",
    "    f5 = count_type[count_type.payType==1].rename(columns={'rate':'type_1_bystatiommin'})[['stationID','minute','type_1_bystatiommin']]\n",
    "    final = final.merge(f5,on=['stationID','minute'],how='left')\n",
    "    f6 = count_type[count_type.payType==2].rename(columns={'rate':'type_2_bystatiommin'})[['stationID','minute','type_2_bystatiommin']]\n",
    "    final = final.merge(f6,on=['stationID','minute'],how='left')\n",
    "    f7 = count_type[count_type.payType==3].rename(columns={'rate':'type_3_bystatiommin'})[['stationID','minute','type_3_bystatiommin']]\n",
    "    final = final.merge(f6,on=['stationID','minute'],how='left')\n",
    "    # 站台，全天\n",
    "    count_type = come.groupby(['stationID','payType'],as_index=False).agg({'status':'count'})\n",
    "    come_bystation = come.groupby(['stationID']).agg({'status':'count'}).rename(columns={'status':'count_10min'})\n",
    "    rate = []\n",
    "    for index,row in tqdm(count_type.iterrows()):\n",
    "        rate.append(row['status']/come_bystation.loc[row['stationID'],'count_10min'])\n",
    "    count_type['rate'] = rate\n",
    "    for i in range(4):\n",
    "        f = count_type[count_type.payType==i].rename(columns={'rate':'type_%s_bystatiom'%i})[['stationID','type_%s_bystatiom'%i]]\n",
    "        final = final.merge(f,on=['stationID'],how='left')\n",
    "    # 分钟，全天\n",
    "    count_type = come.groupby(['minute','payType'],as_index=False).agg({'status':'count'})\n",
    "    come_bystation = come.groupby(['minute']).agg({'status':'count'}).rename(columns={'status':'count_10min'})\n",
    "    rate = []\n",
    "    for index,row in tqdm(count_type.iterrows()):\n",
    "        rate.append(row['status']/come_bystation.loc[row['minute'],'count_10min'])\n",
    "    count_type['rate'] = rate\n",
    "    for i in range(4):\n",
    "        f = count_type[count_type.payType==i].rename(columns={'rate':'type_%s_bymin'%i})[['minute','type_%s_bymin'%i]]\n",
    "        final = final.merge(f,on=['minute'],how='left')\n",
    "    t2 = time.time()\n",
    "    # 数据格式减少内存\n",
    "    final['date'] = date\n",
    "    final['date'] = final['date'].astype('int8')\n",
    "    final.fillna(0,inplace=True)\n",
    "    for c in final.dtypes.index:\n",
    "        if final.dtypes[c] == 'int64':\n",
    "            final[c] = final[c].astype('int32')\n",
    "    all_df = all_df.append(final)\n",
    "    print('epoch %d, now f12 %f 秒'%(date,t2-t1))\n",
    "    #def final\n",
    "    gc.collect()\n",
    "                                                     \n",
    "# progress2缺少时间-所有站台这个维度"
   ]
  },
  {
   "cell_type": "code",
   "execution_count": 8,
   "metadata": {},
   "outputs": [],
   "source": [
    "all_df.to_pickle('features/progress3.pkl')"
   ]
  },
  {
   "cell_type": "code",
   "execution_count": 10,
   "metadata": {},
   "outputs": [
    {
     "data": {
      "text/plain": [
       "(2216160, 20)"
      ]
     },
     "execution_count": 10,
     "metadata": {},
     "output_type": "execute_result"
    }
   ],
   "source": [
    "all_df.shape"
   ]
  },
  {
   "cell_type": "code",
   "execution_count": null,
   "metadata": {},
   "outputs": [],
   "source": []
  }
 ],
 "metadata": {
  "kernelspec": {
   "display_name": "Python 3",
   "language": "python",
   "name": "python3"
  },
  "language_info": {
   "codemirror_mode": {
    "name": "ipython",
    "version": 3
   },
   "file_extension": ".py",
   "mimetype": "text/x-python",
   "name": "python",
   "nbconvert_exporter": "python",
   "pygments_lexer": "ipython3",
   "version": "3.6.3"
  }
 },
 "nbformat": 4,
 "nbformat_minor": 2
}
