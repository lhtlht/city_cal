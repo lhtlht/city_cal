{
 "cells": [
  {
   "cell_type": "code",
   "execution_count": 1,
   "metadata": {},
   "outputs": [],
   "source": [
    "import numpy as np\n",
    "import pandas as pd\n",
    "from tqdm import tqdm as tqdm\n",
    "from multiprocessing import Pool\n",
    "import time,gc"
   ]
  },
  {
   "cell_type": "code",
   "execution_count": 2,
   "metadata": {},
   "outputs": [],
   "source": [
    "# f10:上一天该时刻数据的可信度\n",
    "# f25:上一天该时刻最多进站站台\n",
    "    \n",
    "# f11:该站台进站口个数+出站口个数\n",
    "# f13:站台的邻居个数\n",
    "    \n",
    "# f14:上一天乘客该时刻刷卡类型\n",
    "# f15:上一天乘客该时间段刷卡类型\n",
    "# f16:上一天乘客当天刷卡类型(刷卡类型归一化)"
   ]
  },
  {
   "cell_type": "code",
   "execution_count": 3,
   "metadata": {},
   "outputs": [],
   "source": [
    "# 统计进出站每天的变化情况\n",
    "def get_daily_activity(i):\n",
    "    if i<10:\n",
    "        s = '0'+str(i)\n",
    "    else:\n",
    "        s = str(i)\n",
    "    day_activ = pd.read_csv('data/Metro_train/record_2019-01-%s.csv'%s)\n",
    "    day_activ['time'] = pd.to_datetime(day_activ.time)\n",
    "    day_activ['stationID'] = day_activ['stationID']\n",
    "    day_activ['deviceID'] = day_activ['deviceID']\n",
    "    day_activ['status'] = day_activ['status']\n",
    "    day_activ['payType'] = day_activ['payType']\n",
    "    day_activ['lineID'] = day_activ['lineID'].apply(lambda x: {'A':0,'B':2,'C':1}[x])\n",
    "    return day_activ\n",
    "\n",
    "def construct_df():\n",
    "    final = pd.DataFrame()\n",
    "    for i in range(81):\n",
    "        temp = pd.DataFrame()\n",
    "        temp['minute'] = list(range(1440))\n",
    "        temp['stationID'] = i\n",
    "        final = final.append(temp)\n",
    "    final['minute'] = final['minute']/10\n",
    "    return final\n",
    "\n",
    "def get_cum_feature(function,n):\n",
    "    pool = Pool(7)  #创建拥有5个进程数量的进程池\n",
    "    timestep = [(x,n) for x in range(1440)]\n",
    "    count_result =pool.map(function, timestep) \n",
    "    pool.close()#关闭进程池，不再接受新的进程\n",
    "    pool.join()#主进程阻塞等待子进程的退出\n",
    "    return count_result\n",
    "\n",
    "# 分站点统计\n",
    "def median_cum_bystation(params):\n",
    "    i,n = params\n",
    "    time_range = [i/10+x for x in range(0-n,1+n)]\n",
    "    time_range = [143+1+x if x<0 else x for x in time_range]\n",
    "    station_num = []\n",
    "    for s in range(80):\n",
    "        count = []\n",
    "        for t in time_range:\n",
    "            try:\n",
    "                count.append(come_bystation.loc[(s,t),'count_10min'])\n",
    "            except:\n",
    "                count.append(0)\n",
    "        station_num.append([s,i/10,np.median(count)])\n",
    "    return station_num"
   ]
  },
  {
   "cell_type": "code",
   "execution_count": 4,
   "metadata": {},
   "outputs": [],
   "source": [
    "# 构建邻接矩阵\n",
    "roadmap = pd.read_csv('data/Metro_roadMap.csv',index_col=0)\n",
    "near_node = {}\n",
    "for index,row in roadmap.iterrows():\n",
    "    for i in range(80):\n",
    "        if row[i]==1:\n",
    "            if index not in near_node:\n",
    "                near_node[index] = []\n",
    "            near_node[index].append(i)"
   ]
  },
  {
   "cell_type": "code",
   "execution_count": 5,
   "metadata": {},
   "outputs": [
    {
     "name": "stderr",
     "output_type": "stream",
     "text": [
      "331601it [02:03, 2683.94it/s]\n",
      "320it [00:00, 4618.16it/s]\n",
      "4742it [00:00, 6407.91it/s]\n"
     ]
    },
    {
     "name": "stdout",
     "output_type": "stream",
     "text": [
      "epoch 12, now f12 174.193657 秒\n"
     ]
    },
    {
     "name": "stderr",
     "output_type": "stream",
     "text": [
      "330207it [01:57, 2809.86it/s]\n",
      "320it [00:00, 8562.75it/s]\n",
      "4724it [00:00, 6263.27it/s]\n"
     ]
    },
    {
     "name": "stdout",
     "output_type": "stream",
     "text": [
      "epoch 13, now f12 357.600338 秒\n"
     ]
    },
    {
     "name": "stderr",
     "output_type": "stream",
     "text": [
      "331162it [01:52, 2937.29it/s]\n",
      "320it [00:00, 5491.93it/s]\n",
      "4707it [00:00, 6891.75it/s]\n"
     ]
    },
    {
     "name": "stdout",
     "output_type": "stream",
     "text": [
      "epoch 14, now f12 525.806422 秒\n"
     ]
    },
    {
     "name": "stderr",
     "output_type": "stream",
     "text": [
      "331425it [01:51, 2961.14it/s]\n",
      "320it [00:00, 5382.01it/s]\n",
      "4748it [00:00, 6913.08it/s]\n"
     ]
    },
    {
     "name": "stdout",
     "output_type": "stream",
     "text": [
      "epoch 19, now f12 689.214768 秒\n"
     ]
    },
    {
     "name": "stderr",
     "output_type": "stream",
     "text": [
      "329562it [01:52, 2935.97it/s]\n",
      "320it [00:00, 10309.93it/s]\n",
      "4731it [00:00, 6817.01it/s]\n"
     ]
    },
    {
     "name": "stdout",
     "output_type": "stream",
     "text": [
      "epoch 20, now f12 851.171928 秒\n"
     ]
    },
    {
     "name": "stderr",
     "output_type": "stream",
     "text": [
      "333832it [02:04, 2680.02it/s]\n",
      "320it [00:00, 5346.21it/s]\n",
      "4736it [00:00, 6777.31it/s]\n"
     ]
    },
    {
     "name": "stdout",
     "output_type": "stream",
     "text": [
      "epoch 21, now f12 1036.835681 秒\n"
     ]
    },
    {
     "name": "stderr",
     "output_type": "stream",
     "text": [
      "335733it [02:02, 2744.16it/s]\n",
      "320it [00:00, 5355.30it/s]\n",
      "4817it [00:00, 6664.90it/s]\n"
     ]
    },
    {
     "name": "stdout",
     "output_type": "stream",
     "text": [
      "epoch 26, now f12 1219.299785 秒\n"
     ]
    },
    {
     "name": "stderr",
     "output_type": "stream",
     "text": [
      "334525it [02:03, 2699.73it/s]\n",
      "320it [00:00, 10701.55it/s]\n",
      "4789it [00:00, 13614.07it/s]\n"
     ]
    },
    {
     "name": "stdout",
     "output_type": "stream",
     "text": [
      "epoch 28, now f12 1403.145296 秒\n"
     ]
    }
   ],
   "source": [
    "t1 = time.time()\n",
    "all_df = pd.DataFrame()\n",
    "#for date in range(7,26):\n",
    "for date in [12,13,14,19,20,21,26,28]:\n",
    "    final = construct_df()\n",
    "    day_activ = get_daily_activity(date)[['time','lineID','stationID','deviceID','status','payType']]\n",
    "    df = pd.DataFrame()\n",
    "    for i in range(10):\n",
    "        day_activ['minute'] = (day_activ['time'].dt.minute-i+day_activ['time'].dt.hour*60)//10+0.1*i\n",
    "        day_activ['minute'] = day_activ['minute'].apply(lambda x:143+1+x if x<0 else x)\n",
    "        df = df.append(day_activ)\n",
    "    df.sort_values(by='minute',inplace=True)\n",
    "    come = df[df.status==0]\n",
    "    # 周围半小时中位数\n",
    "    come_bystation = come.groupby(['stationID','minute']).agg({'status':'count'}).rename(columns={'status':'count_10min'})\n",
    "    count_result = get_cum_feature(median_cum_bystation,1)\n",
    "    result = []\n",
    "    for x in count_result:\n",
    "        for i in x:\n",
    "            result.append(i)\n",
    "    f1 = pd.DataFrame(result)\n",
    "    f1.rename(columns={0:'stationID',1:'minute',2:'median_30min_bystation'},inplace=True)\n",
    "    final = final.merge(f1,on=['stationID','minute'],how='left')\n",
    "    # 上一天该时刻最多进站展台\n",
    "    come_bystation = come.groupby(['minute','stationID'],as_index=False).agg({'status':'count'}).rename(columns={'status':'count_10min'})\n",
    "    f2 = come_bystation.sort_values(['minute','count_10min'],ascending=False).\\\n",
    "    drop_duplicates(['minute']).rename(columns={'count_10min':'count_10_max','stationID':'max_count_ID'})\n",
    "    final = final.merge(f2,on='minute',how='left')\n",
    "    # 该站台进站口个数+出站口个数\n",
    "    f3 = come.groupby(['stationID'],as_index=False).agg({'deviceID':'nunique'}).rename(columns={'deviceID':'device_num'})    # f13:站台的邻居个数\n",
    "    final = final.merge(f3,on='stationID',how='left')\n",
    "    # 该站台的邻居个数\n",
    "    final['near_num'] = final['stationID'].apply(lambda x:len(near_node[x]))\n",
    "    # 刷卡类型处理，该时刻，全天，分站台处理\n",
    "    count_type = come.groupby(['stationID','minute','payType'],as_index=False).agg({'status':'count'})\n",
    "    come_bystation = come.groupby(['stationID','minute']).agg({'status':'count'}).rename(columns={'status':'count_10min'})\n",
    "    rate = []\n",
    "    for index,row in tqdm(count_type.iterrows()):\n",
    "        rate.append(row['status']/come_bystation.loc[(row['stationID'],row['minute']),'count_10min'])\n",
    "    count_type['rate'] = rate\n",
    "    f4 = count_type[count_type.payType==0].rename(columns={'rate':'type_0_bystatiommin'})[['stationID','minute','type_0_bystatiommin']]\n",
    "    final = final.merge(f4,on=['stationID','minute'],how='left')\n",
    "    f5 = count_type[count_type.payType==1].rename(columns={'rate':'type_1_bystatiommin'})[['stationID','minute','type_1_bystatiommin']]\n",
    "    final = final.merge(f5,on=['stationID','minute'],how='left')\n",
    "    f6 = count_type[count_type.payType==2].rename(columns={'rate':'type_2_bystatiommin'})[['stationID','minute','type_2_bystatiommin']]\n",
    "    final = final.merge(f6,on=['stationID','minute'],how='left')\n",
    "    f7 = count_type[count_type.payType==3].rename(columns={'rate':'type_3_bystatiommin'})[['stationID','minute','type_3_bystatiommin']]\n",
    "    final = final.merge(f7,on=['stationID','minute'],how='left')\n",
    "    # 站台，全天\n",
    "    count_type = come.groupby(['stationID','payType'],as_index=False).agg({'status':'count'})\n",
    "    come_bystation = come.groupby(['stationID']).agg({'status':'count'}).rename(columns={'status':'count_10min'})\n",
    "    rate = []\n",
    "    for index,row in tqdm(count_type.iterrows()):\n",
    "        rate.append(row['status']/come_bystation.loc[row['stationID'],'count_10min'])\n",
    "    count_type['rate'] = rate\n",
    "    for i in range(4):\n",
    "        f = count_type[count_type.payType==i].rename(columns={'rate':'type_%s_bystatiom'%i})[['stationID','type_%s_bystatiom'%i]]\n",
    "        final = final.merge(f,on=['stationID'],how='left')\n",
    "    # 分钟，全天\n",
    "    count_type = come.groupby(['minute','payType'],as_index=False).agg({'status':'count'})\n",
    "    come_bystation = come.groupby(['minute']).agg({'status':'count'}).rename(columns={'status':'count_10min'})\n",
    "    rate = []\n",
    "    for index,row in tqdm(count_type.iterrows()):\n",
    "        rate.append(row['status']/come_bystation.loc[row['minute'],'count_10min'])\n",
    "    count_type['rate'] = rate\n",
    "    for i in range(4):\n",
    "        f = count_type[count_type.payType==i].rename(columns={'rate':'type_%s_bymin'%i})[['minute','type_%s_bymin'%i]]\n",
    "        final = final.merge(f,on=['minute'],how='left')\n",
    "    t2 = time.time()\n",
    "    # 数据格式减少内存\n",
    "    final['date'] = date\n",
    "    final.fillna(0,inplace=True)\n",
    "    for c in final.dtypes.index:\n",
    "        if final.dtypes[c] == 'int64':\n",
    "            final[c] = final[c].astype('int32')\n",
    "    all_df = all_df.append(final)\n",
    "    print('epoch %d, now f12 %f 秒'%(date,t2-t1))\n",
    "    #def final\n",
    "    gc.collect()\n",
    "                                                     \n",
    "# progress2缺少时间-所有站台这个维度"
   ]
  },
  {
   "cell_type": "code",
   "execution_count": 6,
   "metadata": {},
   "outputs": [],
   "source": [
    "all_df.to_pickle('features/progress3_out.pkl')"
   ]
  },
  {
   "cell_type": "code",
   "execution_count": 7,
   "metadata": {},
   "outputs": [
    {
     "data": {
      "text/plain": [
       "(933120, 20)"
      ]
     },
     "execution_count": 7,
     "metadata": {},
     "output_type": "execute_result"
    }
   ],
   "source": [
    "all_df.shape"
   ]
  },
  {
   "cell_type": "code",
   "execution_count": null,
   "metadata": {},
   "outputs": [],
   "source": []
  }
 ],
 "metadata": {
  "kernelspec": {
   "display_name": "Python 3",
   "language": "python",
   "name": "python3"
  },
  "language_info": {
   "codemirror_mode": {
    "name": "ipython",
    "version": 3
   },
   "file_extension": ".py",
   "mimetype": "text/x-python",
   "name": "python",
   "nbconvert_exporter": "python",
   "pygments_lexer": "ipython3",
   "version": "3.6.3"
  }
 },
 "nbformat": 4,
 "nbformat_minor": 2
}
