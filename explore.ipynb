{
 "cells": [
  {
   "cell_type": "code",
   "execution_count": null,
   "metadata": {},
   "outputs": [],
   "source": [
    "import numpy as np\n",
    "import pandas as pd\n",
    "from pandas.core.common import SettingWithCopyWarning\n",
    "\n",
    "import warnings\n",
    "warnings.simplefilter(action='ignore', category=SettingWithCopyWarning)\n",
    "warnings.simplefilter(action='ignore', category=FutureWarning)\n",
    "\n",
    "from sklearn.metrics import mean_squared_error\n",
    "from sklearn.model_selection import KFold, StratifiedKFold\n",
    "\n",
    "import lightgbm as lgb\n",
    "import matplotlib.pyplot as plt\n",
    "import time\n",
    "import seaborn as sns\n",
    "from tqdm import tqdm as tqdm"
   ]
  },
  {
   "cell_type": "code",
   "execution_count": null,
   "metadata": {},
   "outputs": [],
   "source": [
    "f2 = pd.read_pickle('features/progress2.pkl')\n",
    "f3 = pd.read_pickle('features/progress3.pkl')\n",
    "f4 = pd.read_pickle('features/progress4.pkl')\n",
    "# f5 = pd.read_pickle('features/progress5.pkl')[['minute','stationID','come_out_max',\n",
    "#                                                 'come_out_mean','come_out_var','date',\n",
    "#                                                     'come_max','come_mean','come_var','come_max_id','come_out_max_id']]\n",
    "f6 = pd.read_pickle('features/progress2_out.pkl')\n",
    "f7 = pd.read_pickle('features/progress3_out.pkl')\n",
    "f8 = pd.read_pickle('features/progress4_out.pkl')\n",
    "weather = pd.read_pickle('features/weather.pkl')"
   ]
  },
  {
   "cell_type": "code",
   "execution_count": null,
   "metadata": {},
   "outputs": [],
   "source": [
    "# 合并特征\n",
    "filelist = [f2,f3,f4]\n",
    "f = pd.DataFrame()\n",
    "for file in tqdm(filelist):\n",
    "    for c in file.columns:\n",
    "        if c in f.columns:continue\n",
    "        f[c] = list(file[c])\n",
    "        if file.dtypes[c]=='object':\n",
    "            f[c] = f[c].astype('float')\n",
    "# 合并特征\n",
    "filelist = [f6]\n",
    "for file in tqdm(filelist):\n",
    "    for c in file.columns:\n",
    "        c_ = 'out_'+c\n",
    "        f[c_] = list(file[c])"
   ]
  },
  {
   "cell_type": "code",
   "execution_count": null,
   "metadata": {},
   "outputs": [],
   "source": [
    "f.columns"
   ]
  },
  {
   "cell_type": "code",
   "execution_count": null,
   "metadata": {},
   "outputs": [],
   "source": []
  },
  {
   "cell_type": "code",
   "execution_count": 12,
   "metadata": {},
   "outputs": [],
   "source": [
    "f['type0_num'] = f['type_0_bystatiommin']*f['count_10min_bystation']\n",
    "f['type1_num'] = f['type_1_bystatiommin']*f['count_10min_bystation']\n",
    "f['type2_num'] = f['type_2_bystatiommin']*f['count_10min_bystation']\n",
    "f['type3_num'] = f['type_3_bystatiommin']*f['count_10min_bystation']"
   ]
  },
  {
   "cell_type": "code",
   "execution_count": null,
   "metadata": {},
   "outputs": [],
   "source": []
  },
  {
   "cell_type": "code",
   "execution_count": null,
   "metadata": {},
   "outputs": [],
   "source": [
    "# f_g = f[f.stationID==1].groupby('date').agg({'count_10min_bystation':'sum',\n",
    "#                                               'once_come_by_s_m':'sum','twice_come_by_s_m':'sum',\n",
    "#                                              'type0_num':'sum',\n",
    "#                                              'type1_num':'sum',\n",
    "#                                              'type2_num':'sum',\n",
    "#                                              'type3_num':'sum'})\n",
    "# f_g['once_rate'] = f_g['once_come_by_s_m']/f_g['count_10min_bystation']\n",
    "# f_g['twice_rate'] = f_g['twice_come_by_s_m']/f_g['count_10min_bystation']"
   ]
  },
  {
   "cell_type": "code",
   "execution_count": null,
   "metadata": {},
   "outputs": [],
   "source": [
    "# f_g"
   ]
  },
  {
   "cell_type": "code",
   "execution_count": null,
   "metadata": {},
   "outputs": [],
   "source": [
    "# f_g = f.groupby('date').agg({'count_10min_bystation':'sum',\n",
    "#                                               'once_come_by_s_m':'sum','twice_come_by_s_m':'sum',\n",
    "#                                              'type0_num':'sum',\n",
    "#                                              'type1_num':'sum',\n",
    "#                                              'type2_num':'sum',\n",
    "#                                              'type3_num':'sum'})\n",
    "# f_g['once_rate'] = f_g['once_come_by_s_m']/f_g['count_10min_bystation']\n",
    "# f_g['twice_rate'] = f_g['twice_come_by_s_m']/f_g['count_10min_bystation']"
   ]
  },
  {
   "cell_type": "code",
   "execution_count": null,
   "metadata": {},
   "outputs": [],
   "source": [
    "# 公交卡/大都会/NFC/点卡"
   ]
  }
 ],
 "metadata": {
  "kernelspec": {
   "display_name": "Python 3",
   "language": "python",
   "name": "python3"
  },
  "language_info": {
   "codemirror_mode": {
    "name": "ipython",
    "version": 3
   },
   "file_extension": ".py",
   "mimetype": "text/x-python",
   "name": "python",
   "nbconvert_exporter": "python",
   "pygments_lexer": "ipython3",
   "version": "3.6.3"
  }
 },
 "nbformat": 4,
 "nbformat_minor": 2
}
