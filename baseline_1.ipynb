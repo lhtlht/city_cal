{
 "cells": [
  {
   "cell_type": "code",
   "execution_count": 35,
   "metadata": {},
   "outputs": [],
   "source": [
    "import numpy as np\n",
    "import pandas as pd\n",
    "from tqdm import tqdm as tqdm"
   ]
  },
  {
   "cell_type": "code",
   "execution_count": null,
   "metadata": {},
   "outputs": [],
   "source": [
    "# 统计进出站每天的变化情况\n",
    "daily_count = []\n",
    "for i in tqdm(range(1,26)):\n",
    "    if i<10:\n",
    "        s = '0'+str(i)\n",
    "    else:\n",
    "        s = str(i)\n",
    "    day_i = pd.read_csv('data/Metro_train/record_2019-01-%s.csv'%s)\n",
    "    daily_count.append(day_i.shape[0])"
   ]
  },
  {
   "cell_type": "code",
   "execution_count": 36,
   "metadata": {},
   "outputs": [],
   "source": [
    "day_i = pd.read_csv('data/Metro_testA/testA_record_2019-01-28.csv')"
   ]
  },
  {
   "cell_type": "code",
   "execution_count": 37,
   "metadata": {},
   "outputs": [
    {
     "data": {
      "text/html": [
       "<div>\n",
       "<style scoped>\n",
       "    .dataframe tbody tr th:only-of-type {\n",
       "        vertical-align: middle;\n",
       "    }\n",
       "\n",
       "    .dataframe tbody tr th {\n",
       "        vertical-align: top;\n",
       "    }\n",
       "\n",
       "    .dataframe thead th {\n",
       "        text-align: right;\n",
       "    }\n",
       "</style>\n",
       "<table border=\"1\" class=\"dataframe\">\n",
       "  <thead>\n",
       "    <tr style=\"text-align: right;\">\n",
       "      <th></th>\n",
       "      <th>time</th>\n",
       "      <th>lineID</th>\n",
       "      <th>stationID</th>\n",
       "      <th>deviceID</th>\n",
       "      <th>status</th>\n",
       "      <th>userID</th>\n",
       "      <th>payType</th>\n",
       "    </tr>\n",
       "  </thead>\n",
       "  <tbody>\n",
       "    <tr>\n",
       "      <th>0</th>\n",
       "      <td>2019-01-28 00:00:04</td>\n",
       "      <td>B</td>\n",
       "      <td>33</td>\n",
       "      <td>1587</td>\n",
       "      <td>0</td>\n",
       "      <td>Aad6ad59dfdd470bfdfdb0d2959db068b</td>\n",
       "      <td>0</td>\n",
       "    </tr>\n",
       "    <tr>\n",
       "      <th>1</th>\n",
       "      <td>2019-01-28 00:00:04</td>\n",
       "      <td>C</td>\n",
       "      <td>63</td>\n",
       "      <td>2933</td>\n",
       "      <td>0</td>\n",
       "      <td>Bab97d7b32891b8cb5451e80b73b23d70</td>\n",
       "      <td>1</td>\n",
       "    </tr>\n",
       "    <tr>\n",
       "      <th>2</th>\n",
       "      <td>2019-01-28 00:00:06</td>\n",
       "      <td>C</td>\n",
       "      <td>63</td>\n",
       "      <td>2934</td>\n",
       "      <td>0</td>\n",
       "      <td>Dda829d9f38d0a28f1e4ae84a34e846dc</td>\n",
       "      <td>3</td>\n",
       "    </tr>\n",
       "    <tr>\n",
       "      <th>3</th>\n",
       "      <td>2019-01-28 00:00:06</td>\n",
       "      <td>C</td>\n",
       "      <td>39</td>\n",
       "      <td>1839</td>\n",
       "      <td>0</td>\n",
       "      <td>Cc397069031ab762d75d613291cd68cda</td>\n",
       "      <td>2</td>\n",
       "    </tr>\n",
       "    <tr>\n",
       "      <th>4</th>\n",
       "      <td>2019-01-28 00:00:07</td>\n",
       "      <td>B</td>\n",
       "      <td>33</td>\n",
       "      <td>1588</td>\n",
       "      <td>0</td>\n",
       "      <td>Ba83c695d27b4d376bfde3f755e4b677f</td>\n",
       "      <td>1</td>\n",
       "    </tr>\n",
       "  </tbody>\n",
       "</table>\n",
       "</div>"
      ],
      "text/plain": [
       "                  time lineID  stationID  deviceID  status  \\\n",
       "0  2019-01-28 00:00:04      B         33      1587       0   \n",
       "1  2019-01-28 00:00:04      C         63      2933       0   \n",
       "2  2019-01-28 00:00:06      C         63      2934       0   \n",
       "3  2019-01-28 00:00:06      C         39      1839       0   \n",
       "4  2019-01-28 00:00:07      B         33      1588       0   \n",
       "\n",
       "                              userID  payType  \n",
       "0  Aad6ad59dfdd470bfdfdb0d2959db068b        0  \n",
       "1  Bab97d7b32891b8cb5451e80b73b23d70        1  \n",
       "2  Dda829d9f38d0a28f1e4ae84a34e846dc        3  \n",
       "3  Cc397069031ab762d75d613291cd68cda        2  \n",
       "4  Ba83c695d27b4d376bfde3f755e4b677f        1  "
      ]
     },
     "execution_count": 37,
     "metadata": {},
     "output_type": "execute_result"
    }
   ],
   "source": [
    "day_i.head()"
   ]
  },
  {
   "cell_type": "code",
   "execution_count": 38,
   "metadata": {},
   "outputs": [],
   "source": [
    "predict = pd.read_csv('data/Metro_testA/testA_submit_2019-01-29.csv')"
   ]
  },
  {
   "cell_type": "code",
   "execution_count": 39,
   "metadata": {},
   "outputs": [
    {
     "data": {
      "text/html": [
       "<div>\n",
       "<style scoped>\n",
       "    .dataframe tbody tr th:only-of-type {\n",
       "        vertical-align: middle;\n",
       "    }\n",
       "\n",
       "    .dataframe tbody tr th {\n",
       "        vertical-align: top;\n",
       "    }\n",
       "\n",
       "    .dataframe thead th {\n",
       "        text-align: right;\n",
       "    }\n",
       "</style>\n",
       "<table border=\"1\" class=\"dataframe\">\n",
       "  <thead>\n",
       "    <tr style=\"text-align: right;\">\n",
       "      <th></th>\n",
       "      <th>stationID</th>\n",
       "      <th>startTime</th>\n",
       "      <th>endTime</th>\n",
       "      <th>inNums</th>\n",
       "      <th>outNums</th>\n",
       "    </tr>\n",
       "  </thead>\n",
       "  <tbody>\n",
       "    <tr>\n",
       "      <th>0</th>\n",
       "      <td>0</td>\n",
       "      <td>2019-01-29 00:00:00</td>\n",
       "      <td>2019-01-29 00:10:00</td>\n",
       "      <td>NaN</td>\n",
       "      <td>NaN</td>\n",
       "    </tr>\n",
       "    <tr>\n",
       "      <th>1</th>\n",
       "      <td>0</td>\n",
       "      <td>2019-01-29 00:10:00</td>\n",
       "      <td>2019-01-29 00:20:00</td>\n",
       "      <td>NaN</td>\n",
       "      <td>NaN</td>\n",
       "    </tr>\n",
       "    <tr>\n",
       "      <th>2</th>\n",
       "      <td>0</td>\n",
       "      <td>2019-01-29 00:20:00</td>\n",
       "      <td>2019-01-29 00:30:00</td>\n",
       "      <td>NaN</td>\n",
       "      <td>NaN</td>\n",
       "    </tr>\n",
       "    <tr>\n",
       "      <th>3</th>\n",
       "      <td>0</td>\n",
       "      <td>2019-01-29 00:30:00</td>\n",
       "      <td>2019-01-29 00:40:00</td>\n",
       "      <td>NaN</td>\n",
       "      <td>NaN</td>\n",
       "    </tr>\n",
       "    <tr>\n",
       "      <th>4</th>\n",
       "      <td>0</td>\n",
       "      <td>2019-01-29 00:40:00</td>\n",
       "      <td>2019-01-29 00:50:00</td>\n",
       "      <td>NaN</td>\n",
       "      <td>NaN</td>\n",
       "    </tr>\n",
       "  </tbody>\n",
       "</table>\n",
       "</div>"
      ],
      "text/plain": [
       "   stationID            startTime              endTime  inNums  outNums\n",
       "0          0  2019-01-29 00:00:00  2019-01-29 00:10:00     NaN      NaN\n",
       "1          0  2019-01-29 00:10:00  2019-01-29 00:20:00     NaN      NaN\n",
       "2          0  2019-01-29 00:20:00  2019-01-29 00:30:00     NaN      NaN\n",
       "3          0  2019-01-29 00:30:00  2019-01-29 00:40:00     NaN      NaN\n",
       "4          0  2019-01-29 00:40:00  2019-01-29 00:50:00     NaN      NaN"
      ]
     },
     "execution_count": 39,
     "metadata": {},
     "output_type": "execute_result"
    }
   ],
   "source": [
    "predict.head()"
   ]
  },
  {
   "cell_type": "code",
   "execution_count": 40,
   "metadata": {},
   "outputs": [
    {
     "data": {
      "text/plain": [
       "1"
      ]
     },
     "execution_count": 40,
     "metadata": {},
     "output_type": "execute_result"
    }
   ],
   "source": [
    "19//10"
   ]
  },
  {
   "cell_type": "code",
   "execution_count": 41,
   "metadata": {},
   "outputs": [],
   "source": [
    "day_i['time'] = pd.to_datetime(day_i.time)\n",
    "day_i['minute_count'] = (day_i['time'].dt.minute+day_i['time'].dt.hour*60)//10"
   ]
  },
  {
   "cell_type": "code",
   "execution_count": 42,
   "metadata": {},
   "outputs": [],
   "source": [
    "predict['time'] = pd.to_datetime(predict['startTime'])\n",
    "predict['minute_count'] = (predict['time'].dt.minute+predict['time'].dt.hour*60)//10"
   ]
  },
  {
   "cell_type": "code",
   "execution_count": 43,
   "metadata": {},
   "outputs": [
    {
     "data": {
      "text/html": [
       "<div>\n",
       "<style scoped>\n",
       "    .dataframe tbody tr th:only-of-type {\n",
       "        vertical-align: middle;\n",
       "    }\n",
       "\n",
       "    .dataframe tbody tr th {\n",
       "        vertical-align: top;\n",
       "    }\n",
       "\n",
       "    .dataframe thead th {\n",
       "        text-align: right;\n",
       "    }\n",
       "</style>\n",
       "<table border=\"1\" class=\"dataframe\">\n",
       "  <thead>\n",
       "    <tr style=\"text-align: right;\">\n",
       "      <th></th>\n",
       "      <th>stationID</th>\n",
       "      <th>startTime</th>\n",
       "      <th>endTime</th>\n",
       "      <th>inNums</th>\n",
       "      <th>outNums</th>\n",
       "      <th>time</th>\n",
       "      <th>minute_count</th>\n",
       "    </tr>\n",
       "  </thead>\n",
       "  <tbody>\n",
       "    <tr>\n",
       "      <th>0</th>\n",
       "      <td>0</td>\n",
       "      <td>2019-01-29 00:00:00</td>\n",
       "      <td>2019-01-29 00:10:00</td>\n",
       "      <td>NaN</td>\n",
       "      <td>NaN</td>\n",
       "      <td>2019-01-29 00:00:00</td>\n",
       "      <td>0</td>\n",
       "    </tr>\n",
       "    <tr>\n",
       "      <th>1</th>\n",
       "      <td>0</td>\n",
       "      <td>2019-01-29 00:10:00</td>\n",
       "      <td>2019-01-29 00:20:00</td>\n",
       "      <td>NaN</td>\n",
       "      <td>NaN</td>\n",
       "      <td>2019-01-29 00:10:00</td>\n",
       "      <td>1</td>\n",
       "    </tr>\n",
       "    <tr>\n",
       "      <th>2</th>\n",
       "      <td>0</td>\n",
       "      <td>2019-01-29 00:20:00</td>\n",
       "      <td>2019-01-29 00:30:00</td>\n",
       "      <td>NaN</td>\n",
       "      <td>NaN</td>\n",
       "      <td>2019-01-29 00:20:00</td>\n",
       "      <td>2</td>\n",
       "    </tr>\n",
       "    <tr>\n",
       "      <th>3</th>\n",
       "      <td>0</td>\n",
       "      <td>2019-01-29 00:30:00</td>\n",
       "      <td>2019-01-29 00:40:00</td>\n",
       "      <td>NaN</td>\n",
       "      <td>NaN</td>\n",
       "      <td>2019-01-29 00:30:00</td>\n",
       "      <td>3</td>\n",
       "    </tr>\n",
       "    <tr>\n",
       "      <th>4</th>\n",
       "      <td>0</td>\n",
       "      <td>2019-01-29 00:40:00</td>\n",
       "      <td>2019-01-29 00:50:00</td>\n",
       "      <td>NaN</td>\n",
       "      <td>NaN</td>\n",
       "      <td>2019-01-29 00:40:00</td>\n",
       "      <td>4</td>\n",
       "    </tr>\n",
       "  </tbody>\n",
       "</table>\n",
       "</div>"
      ],
      "text/plain": [
       "   stationID            startTime              endTime  inNums  outNums  \\\n",
       "0          0  2019-01-29 00:00:00  2019-01-29 00:10:00     NaN      NaN   \n",
       "1          0  2019-01-29 00:10:00  2019-01-29 00:20:00     NaN      NaN   \n",
       "2          0  2019-01-29 00:20:00  2019-01-29 00:30:00     NaN      NaN   \n",
       "3          0  2019-01-29 00:30:00  2019-01-29 00:40:00     NaN      NaN   \n",
       "4          0  2019-01-29 00:40:00  2019-01-29 00:50:00     NaN      NaN   \n",
       "\n",
       "                 time  minute_count  \n",
       "0 2019-01-29 00:00:00             0  \n",
       "1 2019-01-29 00:10:00             1  \n",
       "2 2019-01-29 00:20:00             2  \n",
       "3 2019-01-29 00:30:00             3  \n",
       "4 2019-01-29 00:40:00             4  "
      ]
     },
     "execution_count": 43,
     "metadata": {},
     "output_type": "execute_result"
    }
   ],
   "source": [
    "predict.head()"
   ]
  },
  {
   "cell_type": "code",
   "execution_count": 44,
   "metadata": {},
   "outputs": [
    {
     "data": {
      "text/plain": [
       "0    1202647\n",
       "1    1202247\n",
       "Name: status, dtype: int64"
      ]
     },
     "execution_count": 44,
     "metadata": {},
     "output_type": "execute_result"
    }
   ],
   "source": [
    "day_i['status'].value_counts()"
   ]
  },
  {
   "cell_type": "code",
   "execution_count": 45,
   "metadata": {},
   "outputs": [],
   "source": [
    "out = day_i[day_i.status==0]\n",
    "come = day_i[day_i.status==1]"
   ]
  },
  {
   "cell_type": "code",
   "execution_count": 46,
   "metadata": {},
   "outputs": [],
   "source": [
    "come_count = come.groupby(['stationID','minute_count'],as_index=False).agg({'status':'count'})\n",
    "out_count = out.groupby(['stationID','minute_count'],as_index=False).agg({'status':'count'})"
   ]
  },
  {
   "cell_type": "code",
   "execution_count": 47,
   "metadata": {},
   "outputs": [
    {
     "data": {
      "text/html": [
       "<div>\n",
       "<style scoped>\n",
       "    .dataframe tbody tr th:only-of-type {\n",
       "        vertical-align: middle;\n",
       "    }\n",
       "\n",
       "    .dataframe tbody tr th {\n",
       "        vertical-align: top;\n",
       "    }\n",
       "\n",
       "    .dataframe thead th {\n",
       "        text-align: right;\n",
       "    }\n",
       "</style>\n",
       "<table border=\"1\" class=\"dataframe\">\n",
       "  <thead>\n",
       "    <tr style=\"text-align: right;\">\n",
       "      <th></th>\n",
       "      <th>stationID</th>\n",
       "      <th>minute_count</th>\n",
       "      <th>status</th>\n",
       "    </tr>\n",
       "  </thead>\n",
       "  <tbody>\n",
       "    <tr>\n",
       "      <th>0</th>\n",
       "      <td>0</td>\n",
       "      <td>33</td>\n",
       "      <td>22</td>\n",
       "    </tr>\n",
       "    <tr>\n",
       "      <th>1</th>\n",
       "      <td>0</td>\n",
       "      <td>34</td>\n",
       "      <td>14</td>\n",
       "    </tr>\n",
       "    <tr>\n",
       "      <th>2</th>\n",
       "      <td>0</td>\n",
       "      <td>35</td>\n",
       "      <td>53</td>\n",
       "    </tr>\n",
       "    <tr>\n",
       "      <th>3</th>\n",
       "      <td>0</td>\n",
       "      <td>36</td>\n",
       "      <td>35</td>\n",
       "    </tr>\n",
       "    <tr>\n",
       "      <th>4</th>\n",
       "      <td>0</td>\n",
       "      <td>37</td>\n",
       "      <td>43</td>\n",
       "    </tr>\n",
       "  </tbody>\n",
       "</table>\n",
       "</div>"
      ],
      "text/plain": [
       "   stationID  minute_count  status\n",
       "0          0            33      22\n",
       "1          0            34      14\n",
       "2          0            35      53\n",
       "3          0            36      35\n",
       "4          0            37      43"
      ]
     },
     "execution_count": 47,
     "metadata": {},
     "output_type": "execute_result"
    }
   ],
   "source": [
    "come_count.head()"
   ]
  },
  {
   "cell_type": "code",
   "execution_count": 48,
   "metadata": {},
   "outputs": [
    {
     "data": {
      "text/html": [
       "<div>\n",
       "<style scoped>\n",
       "    .dataframe tbody tr th:only-of-type {\n",
       "        vertical-align: middle;\n",
       "    }\n",
       "\n",
       "    .dataframe tbody tr th {\n",
       "        vertical-align: top;\n",
       "    }\n",
       "\n",
       "    .dataframe thead th {\n",
       "        text-align: right;\n",
       "    }\n",
       "</style>\n",
       "<table border=\"1\" class=\"dataframe\">\n",
       "  <thead>\n",
       "    <tr style=\"text-align: right;\">\n",
       "      <th></th>\n",
       "      <th>stationID</th>\n",
       "      <th>startTime</th>\n",
       "      <th>endTime</th>\n",
       "      <th>inNums</th>\n",
       "      <th>outNums</th>\n",
       "      <th>time</th>\n",
       "      <th>minute_count</th>\n",
       "    </tr>\n",
       "  </thead>\n",
       "  <tbody>\n",
       "    <tr>\n",
       "      <th>0</th>\n",
       "      <td>0</td>\n",
       "      <td>2019-01-29 00:00:00</td>\n",
       "      <td>2019-01-29 00:10:00</td>\n",
       "      <td>NaN</td>\n",
       "      <td>NaN</td>\n",
       "      <td>2019-01-29 00:00:00</td>\n",
       "      <td>0</td>\n",
       "    </tr>\n",
       "    <tr>\n",
       "      <th>1</th>\n",
       "      <td>0</td>\n",
       "      <td>2019-01-29 00:10:00</td>\n",
       "      <td>2019-01-29 00:20:00</td>\n",
       "      <td>NaN</td>\n",
       "      <td>NaN</td>\n",
       "      <td>2019-01-29 00:10:00</td>\n",
       "      <td>1</td>\n",
       "    </tr>\n",
       "    <tr>\n",
       "      <th>2</th>\n",
       "      <td>0</td>\n",
       "      <td>2019-01-29 00:20:00</td>\n",
       "      <td>2019-01-29 00:30:00</td>\n",
       "      <td>NaN</td>\n",
       "      <td>NaN</td>\n",
       "      <td>2019-01-29 00:20:00</td>\n",
       "      <td>2</td>\n",
       "    </tr>\n",
       "    <tr>\n",
       "      <th>3</th>\n",
       "      <td>0</td>\n",
       "      <td>2019-01-29 00:30:00</td>\n",
       "      <td>2019-01-29 00:40:00</td>\n",
       "      <td>NaN</td>\n",
       "      <td>NaN</td>\n",
       "      <td>2019-01-29 00:30:00</td>\n",
       "      <td>3</td>\n",
       "    </tr>\n",
       "    <tr>\n",
       "      <th>4</th>\n",
       "      <td>0</td>\n",
       "      <td>2019-01-29 00:40:00</td>\n",
       "      <td>2019-01-29 00:50:00</td>\n",
       "      <td>NaN</td>\n",
       "      <td>NaN</td>\n",
       "      <td>2019-01-29 00:40:00</td>\n",
       "      <td>4</td>\n",
       "    </tr>\n",
       "  </tbody>\n",
       "</table>\n",
       "</div>"
      ],
      "text/plain": [
       "   stationID            startTime              endTime  inNums  outNums  \\\n",
       "0          0  2019-01-29 00:00:00  2019-01-29 00:10:00     NaN      NaN   \n",
       "1          0  2019-01-29 00:10:00  2019-01-29 00:20:00     NaN      NaN   \n",
       "2          0  2019-01-29 00:20:00  2019-01-29 00:30:00     NaN      NaN   \n",
       "3          0  2019-01-29 00:30:00  2019-01-29 00:40:00     NaN      NaN   \n",
       "4          0  2019-01-29 00:40:00  2019-01-29 00:50:00     NaN      NaN   \n",
       "\n",
       "                 time  minute_count  \n",
       "0 2019-01-29 00:00:00             0  \n",
       "1 2019-01-29 00:10:00             1  \n",
       "2 2019-01-29 00:20:00             2  \n",
       "3 2019-01-29 00:30:00             3  \n",
       "4 2019-01-29 00:40:00             4  "
      ]
     },
     "execution_count": 48,
     "metadata": {},
     "output_type": "execute_result"
    }
   ],
   "source": [
    "predict.head()"
   ]
  },
  {
   "cell_type": "code",
   "execution_count": 49,
   "metadata": {},
   "outputs": [],
   "source": [
    "predict_new = predict.merge(come_count,on=['stationID','minute_count'],how='left')\n",
    "predict['inNums'] = list(predict_new['status'])\n",
    "predict_new = predict.merge(out_count,on=['stationID','minute_count'],how='left')\n",
    "predict['outNums'] = list(predict_new['status'])"
   ]
  },
  {
   "cell_type": "code",
   "execution_count": 50,
   "metadata": {},
   "outputs": [],
   "source": [
    "predict.fillna(0,inplace=True)"
   ]
  },
  {
   "cell_type": "code",
   "execution_count": 51,
   "metadata": {},
   "outputs": [],
   "source": [
    "predict[['stationID','startTime','endTime','inNums','outNums']].to_csv('result/testA_submit_2019-01-29.csv',index=False)"
   ]
  },
  {
   "cell_type": "code",
   "execution_count": 52,
   "metadata": {},
   "outputs": [
    {
     "data": {
      "text/plain": [
       "stationID                int64\n",
       "startTime               object\n",
       "endTime                 object\n",
       "inNums                 float64\n",
       "outNums                float64\n",
       "time            datetime64[ns]\n",
       "minute_count             int64\n",
       "dtype: object"
      ]
     },
     "execution_count": 52,
     "metadata": {},
     "output_type": "execute_result"
    }
   ],
   "source": [
    "predict.dtypes"
   ]
  },
  {
   "cell_type": "code",
   "execution_count": null,
   "metadata": {},
   "outputs": [],
   "source": []
  },
  {
   "cell_type": "code",
   "execution_count": 25,
   "metadata": {},
   "outputs": [
    {
     "data": {
      "text/plain": [
       "(11664, 7)"
      ]
     },
     "execution_count": 25,
     "metadata": {},
     "output_type": "execute_result"
    }
   ],
   "source": [
    "predict.shape"
   ]
  },
  {
   "cell_type": "code",
   "execution_count": null,
   "metadata": {},
   "outputs": [],
   "source": []
  }
 ],
 "metadata": {
  "kernelspec": {
   "display_name": "Python 3",
   "language": "python",
   "name": "python3"
  },
  "language_info": {
   "codemirror_mode": {
    "name": "ipython",
    "version": 3
   },
   "file_extension": ".py",
   "mimetype": "text/x-python",
   "name": "python",
   "nbconvert_exporter": "python",
   "pygments_lexer": "ipython3",
   "version": "3.5.2"
  }
 },
 "nbformat": 4,
 "nbformat_minor": 2
}
