{
 "cells": [
  {
   "cell_type": "code",
   "execution_count": 1,
   "metadata": {},
   "outputs": [],
   "source": [
    "import numpy as np\n",
    "import pandas as pd\n",
    "from tqdm import tqdm as tqdm\n",
    "from multiprocessing import Pool\n",
    "import time,gc"
   ]
  },
  {
   "cell_type": "code",
   "execution_count": 2,
   "metadata": {},
   "outputs": [],
   "source": [
    "# 上周同期同时刻进站\n",
    "def construct_df():\n",
    "    final = pd.DataFrame()\n",
    "    for i in range(81):\n",
    "        temp = pd.DataFrame()\n",
    "        temp['minute'] = list(range(1440))\n",
    "        temp['stationID'] = i\n",
    "        final = final.append(temp)\n",
    "    final['minute'] = final['minute']/10\n",
    "    return final\n",
    "# 统计进出站每天的变化情况\n",
    "def get_daily_activity(i):\n",
    "    if i<10:\n",
    "        s = '0'+str(i)\n",
    "    else:\n",
    "        s = str(i)\n",
    "    day_activ = pd.read_csv('data/Metro_train/record_2019-01-%s.csv'%s)\n",
    "    day_activ['time'] = pd.to_datetime(day_activ.time)\n",
    "    day_activ['stationID'] = day_activ['stationID']\n",
    "    day_activ['deviceID'] = day_activ['deviceID']\n",
    "    day_activ['status'] = day_activ['status']\n",
    "    day_activ['payType'] = day_activ['payType']\n",
    "    day_activ['lineID'] = day_activ['lineID'].apply(lambda x: {'A':0,'B':2,'C':1}[x])\n",
    "    return day_activ"
   ]
  },
  {
   "cell_type": "code",
   "execution_count": 3,
   "metadata": {},
   "outputs": [
    {
     "name": "stderr",
     "output_type": "stream",
     "text": [
      "100%|██████████| 26/26 [07:06<00:00, 17.35s/it]\n"
     ]
    }
   ],
   "source": [
    "all_df = pd.DataFrame()\n",
    "#for date in range(7,26):\n",
    "for date in tqdm(list(range(1,26))+[28]):\n",
    "    final = construct_df()\n",
    "    day_activ = get_daily_activity(date)[['time','lineID','stationID','deviceID','status','payType']]\n",
    "    df = pd.DataFrame()\n",
    "    for i in range(10):\n",
    "        day_activ['minute'] = (day_activ['time'].dt.minute-i+day_activ['time'].dt.hour*60)//10+0.1*i\n",
    "        day_activ['minute'] = day_activ['minute'].apply(lambda x:143+1+x if x<0 else x)\n",
    "        df = df.append(day_activ)\n",
    "    df.sort_values(by='minute',inplace=True)\n",
    "    come = df[df.status==1]\n",
    "    come_group = come.groupby(['stationID','minute'],as_index=False).agg({'status':'count'})\n",
    "    final = final.merge(come_group,on=['stationID','minute'],how='left')\n",
    "    final['date'] =date\n",
    "    all_df = all_df.append(final)\n"
   ]
  },
  {
   "cell_type": "code",
   "execution_count": 4,
   "metadata": {},
   "outputs": [],
   "source": [
    "all_df.fillna(0,inplace=True)\n",
    "all_df['last_week'] = [0]*(final.shape[0]*8)+list(all_df['status'])[final.shape[0]*8:]"
   ]
  },
  {
   "cell_type": "code",
   "execution_count": 5,
   "metadata": {},
   "outputs": [
    {
     "data": {
      "text/plain": [
       "['91']"
      ]
     },
     "execution_count": 5,
     "metadata": {},
     "output_type": "execute_result"
    }
   ],
   "source": [
    "import re\n",
    "re.findall(r\"\\d+\\.?\\d*\",'91良')"
   ]
  },
  {
   "cell_type": "code",
   "execution_count": 6,
   "metadata": {},
   "outputs": [],
   "source": [
    "weather = pd.read_csv('data/weather.csv',header=None).rename(columns={1:'max_t',2:'min_t',5:'air'})\n",
    "weather['max_t'] = weather['max_t'].apply(lambda x:x.split('℃')[0])\n",
    "weather['min_t'] = weather['min_t'].apply(lambda x:x.split('℃')[0])\n",
    "weather['air'] = weather['air'].apply(lambda x:re.findall(r\"\\d+\\.?\\d*\",x)[0])\n",
    "weather['weather'] = weather[3].apply(lambda x:len(x))\n",
    "weather = weather.reset_index().rename(columns={'index':'date'})"
   ]
  },
  {
   "cell_type": "code",
   "execution_count": 8,
   "metadata": {},
   "outputs": [
    {
     "data": {
      "text/html": [
       "<div>\n",
       "<style scoped>\n",
       "    .dataframe tbody tr th:only-of-type {\n",
       "        vertical-align: middle;\n",
       "    }\n",
       "\n",
       "    .dataframe tbody tr th {\n",
       "        vertical-align: top;\n",
       "    }\n",
       "\n",
       "    .dataframe thead th {\n",
       "        text-align: right;\n",
       "    }\n",
       "</style>\n",
       "<table border=\"1\" class=\"dataframe\">\n",
       "  <thead>\n",
       "    <tr style=\"text-align: right;\">\n",
       "      <th></th>\n",
       "      <th>date</th>\n",
       "      <th>0</th>\n",
       "      <th>max_t</th>\n",
       "      <th>min_t</th>\n",
       "      <th>3</th>\n",
       "      <th>4</th>\n",
       "      <th>air</th>\n",
       "      <th>weather</th>\n",
       "    </tr>\n",
       "  </thead>\n",
       "  <tbody>\n",
       "    <tr>\n",
       "      <th>0</th>\n",
       "      <td>0</td>\n",
       "      <td>2019-01-01星期二</td>\n",
       "      <td>5</td>\n",
       "      <td>2</td>\n",
       "      <td>多云~小雨</td>\n",
       "      <td>西北风2级</td>\n",
       "      <td>76</td>\n",
       "      <td>5</td>\n",
       "    </tr>\n",
       "    <tr>\n",
       "      <th>1</th>\n",
       "      <td>1</td>\n",
       "      <td>2019-01-02星期三</td>\n",
       "      <td>6</td>\n",
       "      <td>3</td>\n",
       "      <td>小雨~阴</td>\n",
       "      <td>东北风1级</td>\n",
       "      <td>91</td>\n",
       "      <td>4</td>\n",
       "    </tr>\n",
       "    <tr>\n",
       "      <th>2</th>\n",
       "      <td>2</td>\n",
       "      <td>2019-01-03星期四</td>\n",
       "      <td>8</td>\n",
       "      <td>5</td>\n",
       "      <td>阴~小雨</td>\n",
       "      <td>东北风1级</td>\n",
       "      <td>128</td>\n",
       "      <td>4</td>\n",
       "    </tr>\n",
       "    <tr>\n",
       "      <th>3</th>\n",
       "      <td>3</td>\n",
       "      <td>2019-01-04星期五</td>\n",
       "      <td>7</td>\n",
       "      <td>4</td>\n",
       "      <td>中雨</td>\n",
       "      <td>西北风1级</td>\n",
       "      <td>87</td>\n",
       "      <td>2</td>\n",
       "    </tr>\n",
       "    <tr>\n",
       "      <th>4</th>\n",
       "      <td>4</td>\n",
       "      <td>2019-01-05星期六</td>\n",
       "      <td>8</td>\n",
       "      <td>4</td>\n",
       "      <td>小雨~阴</td>\n",
       "      <td>西北风2级</td>\n",
       "      <td>34</td>\n",
       "      <td>4</td>\n",
       "    </tr>\n",
       "  </tbody>\n",
       "</table>\n",
       "</div>"
      ],
      "text/plain": [
       "   date              0 max_t min_t      3      4  air  weather\n",
       "0     0  2019-01-01星期二     5     2  多云~小雨  西北风2级   76        5\n",
       "1     1  2019-01-02星期三     6     3   小雨~阴  东北风1级   91        4\n",
       "2     2  2019-01-03星期四     8     5   阴~小雨  东北风1级  128        4\n",
       "3     3  2019-01-04星期五     7     4     中雨  西北风1级   87        2\n",
       "4     4  2019-01-05星期六     8     4   小雨~阴  西北风2级   34        4"
      ]
     },
     "execution_count": 8,
     "metadata": {},
     "output_type": "execute_result"
    }
   ],
   "source": [
    "weather.head()"
   ]
  },
  {
   "cell_type": "code",
   "execution_count": null,
   "metadata": {},
   "outputs": [],
   "source": []
  },
  {
   "cell_type": "code",
   "execution_count": 10,
   "metadata": {},
   "outputs": [],
   "source": [
    "weather[['date','max_t','min_t','air','weather']].to_pickle('features/weather.pkl')"
   ]
  },
  {
   "cell_type": "code",
   "execution_count": 9,
   "metadata": {},
   "outputs": [],
   "source": []
  }
 ],
 "metadata": {
  "kernelspec": {
   "display_name": "Python 3",
   "language": "python",
   "name": "python3"
  },
  "language_info": {
   "codemirror_mode": {
    "name": "ipython",
    "version": 3
   },
   "file_extension": ".py",
   "mimetype": "text/x-python",
   "name": "python",
   "nbconvert_exporter": "python",
   "pygments_lexer": "ipython3",
   "version": "3.5.2"
  }
 },
 "nbformat": 4,
 "nbformat_minor": 2
}
