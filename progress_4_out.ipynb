{
 "cells": [
  {
   "cell_type": "code",
   "execution_count": 1,
   "metadata": {},
   "outputs": [],
   "source": [
    "import numpy as np\n",
    "import pandas as pd\n",
    "from tqdm import tqdm as tqdm\n",
    "from multiprocessing import Pool\n",
    "import time,gc"
   ]
  },
  {
   "cell_type": "code",
   "execution_count": 2,
   "metadata": {},
   "outputs": [],
   "source": [
    "# f21:上一天非周期用户的数量(一天只有两次刷卡)\n",
    "# 分时刻重复上述特征"
   ]
  },
  {
   "cell_type": "code",
   "execution_count": 3,
   "metadata": {},
   "outputs": [],
   "source": [
    "# 统计进出站每天的变化情况\n",
    "def get_daily_activity(i):\n",
    "    if i<10:\n",
    "        s = '0'+str(i)\n",
    "    else:\n",
    "        s = str(i)\n",
    "    day_activ = pd.read_csv('data/Metro_train/record_2019-01-%s.csv'%s)\n",
    "    day_activ['time'] = pd.to_datetime(day_activ.time)\n",
    "    day_activ['stationID'] = day_activ['stationID']\n",
    "    day_activ['deviceID'] = day_activ['deviceID']\n",
    "    day_activ['status'] = day_activ['status']\n",
    "    day_activ['payType'] = day_activ['payType']\n",
    "    day_activ['lineID'] = day_activ['lineID'].apply(lambda x: {'A':0,'B':2,'C':1}[x])\n",
    "    return day_activ\n",
    "\n",
    "def construct_df():\n",
    "    final = pd.DataFrame()\n",
    "    for i in range(81):\n",
    "        temp = pd.DataFrame()\n",
    "        temp['minute'] = list(range(1440))\n",
    "        temp['stationID'] = i\n",
    "        final = final.append(temp)\n",
    "    final['minute'] = final['minute']/10\n",
    "    return final\n"
   ]
  },
  {
   "cell_type": "code",
   "execution_count": 4,
   "metadata": {},
   "outputs": [],
   "source": [
    "all_df = pd.DataFrame()\n",
    "\n",
    "#for date in range(7,26):\n",
    "for date in [12,13,14,19,20,21,26,28]:\n",
    "    final = construct_df()\n",
    "    day_activ = get_daily_activity(date)\n",
    "    day_activ = day_activ[day_activ.status==0]\n",
    "    userid_count = day_activ.groupby(['userID'],as_index=False).agg({'status':'count'})\\\n",
    "    .rename(columns={'status':'come_count'})\n",
    "    user_id_group = userid_count[userid_count.come_count==1]['userID']\n",
    "    user_id_group = set(user_id_group.values)\n",
    "    day_activ['once_come'] = day_activ['userID'].apply(lambda x:1 if x in user_id_group else 0)\n",
    "    user_id_group = userid_count[userid_count.come_count==2]['userID']\n",
    "    user_id_group = set(user_id_group.values)\n",
    "    day_activ['twice_come'] = day_activ['userID'].apply(lambda x:1 if x in user_id_group else 0)\n",
    "\n",
    "    df = pd.DataFrame()\n",
    "    for i in range(10):\n",
    "        day_activ['minute'] = (day_activ['time'].dt.minute-i+day_activ['time'].dt.hour*60)//10+0.1*i\n",
    "        day_activ['minute'] = day_activ['minute'].apply(lambda x:143+1+x if x<0 else x)\n",
    "        df = df.append(day_activ)\n",
    "    df.sort_values(by='minute',inplace=True)\n",
    "    come = df\n",
    "    # 上一天非周期用户的数量(一天只有两次刷卡) 进站一次 进站二次 比率\n",
    "    f1 = come.groupby(['stationID','minute'],as_index=False).agg({'once_come':'sum'}).rename(columns={'once_come':'once_come_by_s_m'})\n",
    "    final = final.merge(f1,on=['stationID','minute'],how='left')\n",
    "    f2 = come.groupby(['stationID','minute'],as_index=False).agg({'twice_come':'sum'}).rename(columns={'twice_come':'twice_come_by_s_m'})\n",
    "    final = final.merge(f2,on=['stationID','minute'],how='left')\n",
    "    final['twice_to_once_come_s_m'] = final['once_come_by_s_m']/final['twice_come_by_s_m']\n",
    "    \n",
    "    f3 = come.groupby('stationID').agg({'once_come':'sum'}).rename(columns={'once_come':'once_come_by_s'})\n",
    "    final = final.merge(f3,on='stationID',how='left')\n",
    "    f4 = come.groupby('stationID').agg({'twice_come':'sum'}).rename(columns={'twice_come':'twice_come_by_s'})\n",
    "    final = final.merge(f4,on='stationID',how='left')\n",
    "    final['twice_to_once_come_s'] = final['once_come_by_s']/final['twice_come_by_s']\n",
    "    \n",
    "    f5 = come.groupby('minute').agg({'once_come':'sum'}).rename(columns={'once_come':'once_come_by_m'})\n",
    "    final = final.merge(f5,on='minute',how='left')\n",
    "    f6 = come.groupby('minute').agg({'twice_come':'sum'}).rename(columns={'twice_come':'twice_come_by_m'})\n",
    "    final = final.merge(f6,on='minute',how='left')\n",
    "    final['twice_to_once_come_m'] = final['once_come_by_m']/final['twice_come_by_m']\n",
    "    # 数据格式减少内存\n",
    "    final['date'] = date\n",
    "    final.fillna(0,inplace=True)\n",
    "    for c in final.dtypes.index:\n",
    "        if final.dtypes[c] == 'float64':\n",
    "            final[c] = final[c].astype('float32')\n",
    "    all_df = all_df.append(final)\n",
    "    "
   ]
  },
  {
   "cell_type": "code",
   "execution_count": 5,
   "metadata": {},
   "outputs": [],
   "source": [
    "all_df.to_pickle('features/progress4_out.pkl')"
   ]
  },
  {
   "cell_type": "code",
   "execution_count": null,
   "metadata": {},
   "outputs": [],
   "source": []
  },
  {
   "cell_type": "code",
   "execution_count": null,
   "metadata": {},
   "outputs": [],
   "source": []
  }
 ],
 "metadata": {
  "kernelspec": {
   "display_name": "Python 3",
   "language": "python",
   "name": "python3"
  },
  "language_info": {
   "codemirror_mode": {
    "name": "ipython",
    "version": 3
   },
   "file_extension": ".py",
   "mimetype": "text/x-python",
   "name": "python",
   "nbconvert_exporter": "python",
   "pygments_lexer": "ipython3",
   "version": "3.6.3"
  }
 },
 "nbformat": 4,
 "nbformat_minor": 2
}
